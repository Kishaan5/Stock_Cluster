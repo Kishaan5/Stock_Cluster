{
 "cells": [
  {
   "cell_type": "markdown",
   "id": "9041415c",
   "metadata": {},
   "source": [
    "# Stocks Cluster Project\n",
    "\n",
    "The idea behind the project is to get different stocks and then look at their movements  and then sort out the stocks into clusters based on their movements. As the stocks will now be clustered based on if they move similarly we can then identify which investment strategy would the best for each cluster."
   ]
  },
  {
   "cell_type": "markdown",
   "id": "ba47e560",
   "metadata": {},
   "source": [
    "<img src=\"https://www.marketplace.org/wp-content/uploads/2021/10/stockmarket.jpg?fit=2800%2C1575\"/>"
   ]
  },
  {
   "cell_type": "markdown",
   "id": "a17a37aa",
   "metadata": {},
   "source": [
    "### Import Libraries"
   ]
  },
  {
   "cell_type": "code",
   "execution_count": 80,
   "id": "c1f0e444",
   "metadata": {},
   "outputs": [],
   "source": [
    "import pandas as pd \n",
    "import requests\n",
    "from bs4 import BeautifulSoup\n",
    "import seaborn as sns\n",
    "import matplotlib.pyplot as plt\n",
    "from sklearn.preprocessing import StandardScaler\n",
    "from sklearn.cluster import KMeans\n",
    "import math as math\n",
    "import plotly.express as px"
   ]
  },
  {
   "cell_type": "markdown",
   "id": "d0791bcc",
   "metadata": {},
   "source": [
    "### Import Data"
   ]
  },
  {
   "cell_type": "markdown",
   "id": "1e4d5543",
   "metadata": {},
   "source": [
    "How to scrape the other data from this page?"
   ]
  },
  {
   "cell_type": "markdown",
   "id": "a4afa1a3",
   "metadata": {},
   "source": [
    "Using this data from yahoo which shows the most active stocks at the moment, this means there is large amounts of liquidity in the market at the moment, so there is a greater chance of the stock being traded close to its actual value, which is what we want as we would like either a fair price for a share or a lower price"
   ]
  },
  {
   "cell_type": "code",
   "execution_count": 2,
   "id": "7e0095cc",
   "metadata": {},
   "outputs": [],
   "source": [
    "url =\"https://uk.finance.yahoo.com/most-active/?count=25&offset=0\""
   ]
  },
  {
   "cell_type": "code",
   "execution_count": 3,
   "id": "c8a1dd7f",
   "metadata": {},
   "outputs": [],
   "source": [
    "row=[]\n",
    "\n",
    "\n",
    "r = requests.get(url)\n",
    "soup = BeautifulSoup(r.text,\"html.parser\")\n",
    "table = soup.find(\"table\",class_=\"W(100%)\")\n",
    "rows = table.find_all(\"tr\")\n",
    "    \n",
    "for i in rows[1:]:\n",
    "    data = i.find_all(\"td\")\n",
    "    r = [tr.text for tr in data]\n",
    "    row.append(r)\n"
   ]
  },
  {
   "cell_type": "code",
   "execution_count": 4,
   "id": "c6298644",
   "metadata": {},
   "outputs": [],
   "source": [
    "headers = table.find_all(\"th\")"
   ]
  },
  {
   "cell_type": "code",
   "execution_count": 5,
   "id": "ea1e54c5",
   "metadata": {},
   "outputs": [],
   "source": [
    "titles = []\n",
    "\n",
    "for i in headers:\n",
    "    data = i.text\n",
    "    titles.append(data)"
   ]
  },
  {
   "cell_type": "code",
   "execution_count": 6,
   "id": "31fb3712",
   "metadata": {},
   "outputs": [
    {
     "data": {
      "text/plain": [
       "['Symbol',\n",
       " 'Name',\n",
       " 'Price (intraday)',\n",
       " 'Change',\n",
       " '% change',\n",
       " 'Volume',\n",
       " 'Avg vol (3-month)',\n",
       " 'Market cap',\n",
       " 'PE ratio (TTM)',\n",
       " '52-week range']"
      ]
     },
     "execution_count": 6,
     "metadata": {},
     "output_type": "execute_result"
    }
   ],
   "source": [
    "titles"
   ]
  },
  {
   "cell_type": "code",
   "execution_count": 7,
   "id": "66c7e144",
   "metadata": {},
   "outputs": [],
   "source": [
    "df = pd.DataFrame(data=row,columns=titles)"
   ]
  },
  {
   "cell_type": "code",
   "execution_count": 8,
   "id": "d31dd408",
   "metadata": {},
   "outputs": [
    {
     "data": {
      "text/html": [
       "<div>\n",
       "<style scoped>\n",
       "    .dataframe tbody tr th:only-of-type {\n",
       "        vertical-align: middle;\n",
       "    }\n",
       "\n",
       "    .dataframe tbody tr th {\n",
       "        vertical-align: top;\n",
       "    }\n",
       "\n",
       "    .dataframe thead th {\n",
       "        text-align: right;\n",
       "    }\n",
       "</style>\n",
       "<table border=\"1\" class=\"dataframe\">\n",
       "  <thead>\n",
       "    <tr style=\"text-align: right;\">\n",
       "      <th></th>\n",
       "      <th>Symbol</th>\n",
       "      <th>Name</th>\n",
       "      <th>Price (intraday)</th>\n",
       "      <th>Change</th>\n",
       "      <th>% change</th>\n",
       "      <th>Volume</th>\n",
       "      <th>Avg vol (3-month)</th>\n",
       "      <th>Market cap</th>\n",
       "      <th>PE ratio (TTM)</th>\n",
       "      <th>52-week range</th>\n",
       "    </tr>\n",
       "  </thead>\n",
       "  <tbody>\n",
       "    <tr>\n",
       "      <th>0</th>\n",
       "      <td>KIBO.L</td>\n",
       "      <td>Kibo Mining Plc</td>\n",
       "      <td>0.0575</td>\n",
       "      <td>-0.0050</td>\n",
       "      <td>-8.00%</td>\n",
       "      <td>450M</td>\n",
       "      <td>15.398M</td>\n",
       "      <td>2.173M</td>\n",
       "      <td>N/A</td>\n",
       "      <td></td>\n",
       "    </tr>\n",
       "    <tr>\n",
       "      <th>1</th>\n",
       "      <td>BCE.L</td>\n",
       "      <td>Beacon Energy plc</td>\n",
       "      <td>0.1911</td>\n",
       "      <td>-0.0164</td>\n",
       "      <td>-7.90%</td>\n",
       "      <td>323.652M</td>\n",
       "      <td>110.186M</td>\n",
       "      <td>20.081M</td>\n",
       "      <td>N/A</td>\n",
       "      <td></td>\n",
       "    </tr>\n",
       "    <tr>\n",
       "      <th>2</th>\n",
       "      <td>ICON.L</td>\n",
       "      <td>Iconic Labs Plc</td>\n",
       "      <td>0.0030</td>\n",
       "      <td>-0.0003</td>\n",
       "      <td>-7.69%</td>\n",
       "      <td>356.554M</td>\n",
       "      <td>412.71M</td>\n",
       "      <td>2.315M</td>\n",
       "      <td>N/A</td>\n",
       "      <td></td>\n",
       "    </tr>\n",
       "    <tr>\n",
       "      <th>3</th>\n",
       "      <td>UKOG.L</td>\n",
       "      <td>UK Oil &amp; Gas Investments PLC</td>\n",
       "      <td>0.0436</td>\n",
       "      <td>-0.0024</td>\n",
       "      <td>-5.22%</td>\n",
       "      <td>290.487M</td>\n",
       "      <td>85.753M</td>\n",
       "      <td>9.785M</td>\n",
       "      <td>N/A</td>\n",
       "      <td></td>\n",
       "    </tr>\n",
       "    <tr>\n",
       "      <th>4</th>\n",
       "      <td>BBSN.L</td>\n",
       "      <td>Brave Bison Group plc</td>\n",
       "      <td>2.3750</td>\n",
       "      <td>0.0000</td>\n",
       "      <td>0.00%</td>\n",
       "      <td>193.223M</td>\n",
       "      <td>1.347M</td>\n",
       "      <td>30.574M</td>\n",
       "      <td>N/A</td>\n",
       "      <td></td>\n",
       "    </tr>\n",
       "  </tbody>\n",
       "</table>\n",
       "</div>"
      ],
      "text/plain": [
       "   Symbol                          Name Price (intraday)   Change % change  \\\n",
       "0  KIBO.L               Kibo Mining Plc           0.0575  -0.0050   -8.00%   \n",
       "1   BCE.L             Beacon Energy plc           0.1911  -0.0164   -7.90%   \n",
       "2  ICON.L               Iconic Labs Plc           0.0030  -0.0003   -7.69%   \n",
       "3  UKOG.L  UK Oil & Gas Investments PLC           0.0436  -0.0024   -5.22%   \n",
       "4  BBSN.L         Brave Bison Group plc           2.3750   0.0000    0.00%   \n",
       "\n",
       "     Volume Avg vol (3-month) Market cap PE ratio (TTM) 52-week range  \n",
       "0      450M           15.398M     2.173M            N/A                \n",
       "1  323.652M          110.186M    20.081M            N/A                \n",
       "2  356.554M           412.71M     2.315M            N/A                \n",
       "3  290.487M           85.753M     9.785M            N/A                \n",
       "4  193.223M            1.347M    30.574M            N/A                "
      ]
     },
     "execution_count": 8,
     "metadata": {},
     "output_type": "execute_result"
    }
   ],
   "source": [
    "df.head()"
   ]
  },
  {
   "cell_type": "markdown",
   "id": "20ac57a0",
   "metadata": {},
   "source": [
    "### Data Cleaning and wrangling "
   ]
  },
  {
   "cell_type": "markdown",
   "id": "b12a2397",
   "metadata": {},
   "source": [
    "Drop the PE ratio (TTM) and 52-week range column as no usefull data in them"
   ]
  },
  {
   "cell_type": "code",
   "execution_count": 9,
   "id": "b6dab4b3",
   "metadata": {},
   "outputs": [],
   "source": [
    "stocks = df.drop(axis=1,columns=[\"PE ratio (TTM)\", \"52-week range\"])"
   ]
  },
  {
   "cell_type": "code",
   "execution_count": 10,
   "id": "4401a78a",
   "metadata": {},
   "outputs": [
    {
     "data": {
      "text/html": [
       "<div>\n",
       "<style scoped>\n",
       "    .dataframe tbody tr th:only-of-type {\n",
       "        vertical-align: middle;\n",
       "    }\n",
       "\n",
       "    .dataframe tbody tr th {\n",
       "        vertical-align: top;\n",
       "    }\n",
       "\n",
       "    .dataframe thead th {\n",
       "        text-align: right;\n",
       "    }\n",
       "</style>\n",
       "<table border=\"1\" class=\"dataframe\">\n",
       "  <thead>\n",
       "    <tr style=\"text-align: right;\">\n",
       "      <th></th>\n",
       "      <th>Symbol</th>\n",
       "      <th>Name</th>\n",
       "      <th>Price (intraday)</th>\n",
       "      <th>Change</th>\n",
       "      <th>% change</th>\n",
       "      <th>Volume</th>\n",
       "      <th>Avg vol (3-month)</th>\n",
       "      <th>Market cap</th>\n",
       "    </tr>\n",
       "  </thead>\n",
       "  <tbody>\n",
       "    <tr>\n",
       "      <th>0</th>\n",
       "      <td>KIBO.L</td>\n",
       "      <td>Kibo Mining Plc</td>\n",
       "      <td>0.0575</td>\n",
       "      <td>-0.0050</td>\n",
       "      <td>-8.00%</td>\n",
       "      <td>450M</td>\n",
       "      <td>15.398M</td>\n",
       "      <td>2.173M</td>\n",
       "    </tr>\n",
       "    <tr>\n",
       "      <th>1</th>\n",
       "      <td>BCE.L</td>\n",
       "      <td>Beacon Energy plc</td>\n",
       "      <td>0.1911</td>\n",
       "      <td>-0.0164</td>\n",
       "      <td>-7.90%</td>\n",
       "      <td>323.652M</td>\n",
       "      <td>110.186M</td>\n",
       "      <td>20.081M</td>\n",
       "    </tr>\n",
       "    <tr>\n",
       "      <th>2</th>\n",
       "      <td>ICON.L</td>\n",
       "      <td>Iconic Labs Plc</td>\n",
       "      <td>0.0030</td>\n",
       "      <td>-0.0003</td>\n",
       "      <td>-7.69%</td>\n",
       "      <td>356.554M</td>\n",
       "      <td>412.71M</td>\n",
       "      <td>2.315M</td>\n",
       "    </tr>\n",
       "    <tr>\n",
       "      <th>3</th>\n",
       "      <td>UKOG.L</td>\n",
       "      <td>UK Oil &amp; Gas Investments PLC</td>\n",
       "      <td>0.0436</td>\n",
       "      <td>-0.0024</td>\n",
       "      <td>-5.22%</td>\n",
       "      <td>290.487M</td>\n",
       "      <td>85.753M</td>\n",
       "      <td>9.785M</td>\n",
       "    </tr>\n",
       "    <tr>\n",
       "      <th>4</th>\n",
       "      <td>BBSN.L</td>\n",
       "      <td>Brave Bison Group plc</td>\n",
       "      <td>2.3750</td>\n",
       "      <td>0.0000</td>\n",
       "      <td>0.00%</td>\n",
       "      <td>193.223M</td>\n",
       "      <td>1.347M</td>\n",
       "      <td>30.574M</td>\n",
       "    </tr>\n",
       "  </tbody>\n",
       "</table>\n",
       "</div>"
      ],
      "text/plain": [
       "   Symbol                          Name Price (intraday)   Change % change  \\\n",
       "0  KIBO.L               Kibo Mining Plc           0.0575  -0.0050   -8.00%   \n",
       "1   BCE.L             Beacon Energy plc           0.1911  -0.0164   -7.90%   \n",
       "2  ICON.L               Iconic Labs Plc           0.0030  -0.0003   -7.69%   \n",
       "3  UKOG.L  UK Oil & Gas Investments PLC           0.0436  -0.0024   -5.22%   \n",
       "4  BBSN.L         Brave Bison Group plc           2.3750   0.0000    0.00%   \n",
       "\n",
       "     Volume Avg vol (3-month) Market cap  \n",
       "0      450M           15.398M     2.173M  \n",
       "1  323.652M          110.186M    20.081M  \n",
       "2  356.554M           412.71M     2.315M  \n",
       "3  290.487M           85.753M     9.785M  \n",
       "4  193.223M            1.347M    30.574M  "
      ]
     },
     "execution_count": 10,
     "metadata": {},
     "output_type": "execute_result"
    }
   ],
   "source": [
    "stocks.head()"
   ]
  },
  {
   "cell_type": "markdown",
   "id": "2d9f322c",
   "metadata": {},
   "source": [
    "Check to see the datatypes of the each feature and change accordingly if needed, also need to remove the % sign and the M, also need to adjust the names of the columns accordingly"
   ]
  },
  {
   "cell_type": "code",
   "execution_count": 11,
   "id": "dfde924f",
   "metadata": {},
   "outputs": [
    {
     "data": {
      "text/plain": [
       "Symbol               object\n",
       "Name                 object\n",
       "Price (intraday)     object\n",
       "Change               object\n",
       "% change             object\n",
       "Volume               object\n",
       "Avg vol (3-month)    object\n",
       "Market cap           object\n",
       "dtype: object"
      ]
     },
     "execution_count": 11,
     "metadata": {},
     "output_type": "execute_result"
    }
   ],
   "source": [
    "stocks.dtypes"
   ]
  },
  {
   "cell_type": "code",
   "execution_count": 12,
   "id": "36abb168",
   "metadata": {},
   "outputs": [],
   "source": [
    "stocks =stocks.rename(columns={\"Price (intraday)\" : \"Price(intraday) $\",\"Volume\" : \"Volume(M)\",\"Avg vol (3-month)\" : \"Avg vol (3-month) (M)\",\"Market cap\" : \"Market cap (M)\" })"
   ]
  },
  {
   "cell_type": "code",
   "execution_count": 13,
   "id": "354cd045",
   "metadata": {},
   "outputs": [
    {
     "data": {
      "text/html": [
       "<div>\n",
       "<style scoped>\n",
       "    .dataframe tbody tr th:only-of-type {\n",
       "        vertical-align: middle;\n",
       "    }\n",
       "\n",
       "    .dataframe tbody tr th {\n",
       "        vertical-align: top;\n",
       "    }\n",
       "\n",
       "    .dataframe thead th {\n",
       "        text-align: right;\n",
       "    }\n",
       "</style>\n",
       "<table border=\"1\" class=\"dataframe\">\n",
       "  <thead>\n",
       "    <tr style=\"text-align: right;\">\n",
       "      <th></th>\n",
       "      <th>Symbol</th>\n",
       "      <th>Name</th>\n",
       "      <th>Price(intraday) $</th>\n",
       "      <th>Change</th>\n",
       "      <th>% change</th>\n",
       "      <th>Volume(M)</th>\n",
       "      <th>Avg vol (3-month) (M)</th>\n",
       "      <th>Market cap (M)</th>\n",
       "    </tr>\n",
       "  </thead>\n",
       "  <tbody>\n",
       "    <tr>\n",
       "      <th>0</th>\n",
       "      <td>KIBO.L</td>\n",
       "      <td>Kibo Mining Plc</td>\n",
       "      <td>0.0575</td>\n",
       "      <td>-0.0050</td>\n",
       "      <td>-8.00%</td>\n",
       "      <td>450M</td>\n",
       "      <td>15.398M</td>\n",
       "      <td>2.173M</td>\n",
       "    </tr>\n",
       "    <tr>\n",
       "      <th>1</th>\n",
       "      <td>BCE.L</td>\n",
       "      <td>Beacon Energy plc</td>\n",
       "      <td>0.1911</td>\n",
       "      <td>-0.0164</td>\n",
       "      <td>-7.90%</td>\n",
       "      <td>323.652M</td>\n",
       "      <td>110.186M</td>\n",
       "      <td>20.081M</td>\n",
       "    </tr>\n",
       "    <tr>\n",
       "      <th>2</th>\n",
       "      <td>ICON.L</td>\n",
       "      <td>Iconic Labs Plc</td>\n",
       "      <td>0.0030</td>\n",
       "      <td>-0.0003</td>\n",
       "      <td>-7.69%</td>\n",
       "      <td>356.554M</td>\n",
       "      <td>412.71M</td>\n",
       "      <td>2.315M</td>\n",
       "    </tr>\n",
       "    <tr>\n",
       "      <th>3</th>\n",
       "      <td>UKOG.L</td>\n",
       "      <td>UK Oil &amp; Gas Investments PLC</td>\n",
       "      <td>0.0436</td>\n",
       "      <td>-0.0024</td>\n",
       "      <td>-5.22%</td>\n",
       "      <td>290.487M</td>\n",
       "      <td>85.753M</td>\n",
       "      <td>9.785M</td>\n",
       "    </tr>\n",
       "    <tr>\n",
       "      <th>4</th>\n",
       "      <td>BBSN.L</td>\n",
       "      <td>Brave Bison Group plc</td>\n",
       "      <td>2.3750</td>\n",
       "      <td>0.0000</td>\n",
       "      <td>0.00%</td>\n",
       "      <td>193.223M</td>\n",
       "      <td>1.347M</td>\n",
       "      <td>30.574M</td>\n",
       "    </tr>\n",
       "  </tbody>\n",
       "</table>\n",
       "</div>"
      ],
      "text/plain": [
       "   Symbol                          Name Price(intraday) $   Change % change  \\\n",
       "0  KIBO.L               Kibo Mining Plc            0.0575  -0.0050   -8.00%   \n",
       "1   BCE.L             Beacon Energy plc            0.1911  -0.0164   -7.90%   \n",
       "2  ICON.L               Iconic Labs Plc            0.0030  -0.0003   -7.69%   \n",
       "3  UKOG.L  UK Oil & Gas Investments PLC            0.0436  -0.0024   -5.22%   \n",
       "4  BBSN.L         Brave Bison Group plc            2.3750   0.0000    0.00%   \n",
       "\n",
       "  Volume(M) Avg vol (3-month) (M) Market cap (M)  \n",
       "0      450M               15.398M         2.173M  \n",
       "1  323.652M              110.186M        20.081M  \n",
       "2  356.554M               412.71M         2.315M  \n",
       "3  290.487M               85.753M         9.785M  \n",
       "4  193.223M                1.347M        30.574M  "
      ]
     },
     "execution_count": 13,
     "metadata": {},
     "output_type": "execute_result"
    }
   ],
   "source": [
    "stocks.head()"
   ]
  },
  {
   "cell_type": "code",
   "execution_count": 14,
   "id": "31d0623e",
   "metadata": {},
   "outputs": [],
   "source": [
    "stocks[\"Price(intraday) $\"]= stocks[\"Price(intraday) $\"].astype(str).astype(float)\n",
    "stocks[\"Change\"]=stocks[\"Change\"].astype(str).astype(float)\n",
    "stocks[\"% change\"]=stocks[\"% change\"].astype(str).str.replace(\"%\",\"\").astype(float)"
   ]
  },
  {
   "cell_type": "markdown",
   "id": "8c3aea0f",
   "metadata": {},
   "source": [
    "Have to convert the volume columns in a different way, first convert it into strings then remove all the integer values"
   ]
  },
  {
   "cell_type": "code",
   "execution_count": 15,
   "id": "693a4e88",
   "metadata": {},
   "outputs": [],
   "source": [
    "stocks[\"Volume(M)\"]=stocks[\"Volume(M)\"].astype(str).str.replace(\"M\",\"\")\n",
    "stocks[\"Avg vol (3-month) (M)\"] = stocks[\"Avg vol (3-month) (M)\"].astype(str).str.replace(\"M\",\"\")\n",
    "stocks[\"Market cap (M)\"] = stocks[\"Market cap (M)\"].str.replace(\"M\",\"\")"
   ]
  },
  {
   "cell_type": "code",
   "execution_count": 16,
   "id": "73870273",
   "metadata": {},
   "outputs": [],
   "source": [
    "def convert_to_float(value):\n",
    "    value_without_M = value.replace(\"M\", \"\")\n",
    "    return pd.to_numeric(value_without_M, errors=\"coerce\")"
   ]
  },
  {
   "cell_type": "code",
   "execution_count": 17,
   "id": "308e4be3",
   "metadata": {},
   "outputs": [],
   "source": [
    "stocks[\"Volume(M)\"]=convert_to_float(stocks[\"Volume(M)\"])"
   ]
  },
  {
   "cell_type": "code",
   "execution_count": 18,
   "id": "fd27fa7e",
   "metadata": {},
   "outputs": [],
   "source": [
    "stocks[\"Avg vol (3-month) (M)\"]=convert_to_float(stocks[\"Avg vol (3-month) (M)\"])"
   ]
  },
  {
   "cell_type": "code",
   "execution_count": 19,
   "id": "b6faeef7",
   "metadata": {},
   "outputs": [],
   "source": [
    "stocks[\"Market cap (M)\"]=convert_to_float(stocks[\"Market cap (M)\"])"
   ]
  },
  {
   "cell_type": "code",
   "execution_count": 20,
   "id": "939278a7",
   "metadata": {},
   "outputs": [
    {
     "data": {
      "text/html": [
       "<div>\n",
       "<style scoped>\n",
       "    .dataframe tbody tr th:only-of-type {\n",
       "        vertical-align: middle;\n",
       "    }\n",
       "\n",
       "    .dataframe tbody tr th {\n",
       "        vertical-align: top;\n",
       "    }\n",
       "\n",
       "    .dataframe thead th {\n",
       "        text-align: right;\n",
       "    }\n",
       "</style>\n",
       "<table border=\"1\" class=\"dataframe\">\n",
       "  <thead>\n",
       "    <tr style=\"text-align: right;\">\n",
       "      <th></th>\n",
       "      <th>Symbol</th>\n",
       "      <th>Name</th>\n",
       "      <th>Price(intraday) $</th>\n",
       "      <th>Change</th>\n",
       "      <th>% change</th>\n",
       "      <th>Volume(M)</th>\n",
       "      <th>Avg vol (3-month) (M)</th>\n",
       "      <th>Market cap (M)</th>\n",
       "    </tr>\n",
       "  </thead>\n",
       "  <tbody>\n",
       "    <tr>\n",
       "      <th>0</th>\n",
       "      <td>KIBO.L</td>\n",
       "      <td>Kibo Mining Plc</td>\n",
       "      <td>0.0575</td>\n",
       "      <td>-0.0050</td>\n",
       "      <td>-8.00</td>\n",
       "      <td>450.000</td>\n",
       "      <td>15.398</td>\n",
       "      <td>2.173</td>\n",
       "    </tr>\n",
       "    <tr>\n",
       "      <th>1</th>\n",
       "      <td>BCE.L</td>\n",
       "      <td>Beacon Energy plc</td>\n",
       "      <td>0.1911</td>\n",
       "      <td>-0.0164</td>\n",
       "      <td>-7.90</td>\n",
       "      <td>323.652</td>\n",
       "      <td>110.186</td>\n",
       "      <td>20.081</td>\n",
       "    </tr>\n",
       "    <tr>\n",
       "      <th>2</th>\n",
       "      <td>ICON.L</td>\n",
       "      <td>Iconic Labs Plc</td>\n",
       "      <td>0.0030</td>\n",
       "      <td>-0.0003</td>\n",
       "      <td>-7.69</td>\n",
       "      <td>356.554</td>\n",
       "      <td>412.710</td>\n",
       "      <td>2.315</td>\n",
       "    </tr>\n",
       "    <tr>\n",
       "      <th>3</th>\n",
       "      <td>UKOG.L</td>\n",
       "      <td>UK Oil &amp; Gas Investments PLC</td>\n",
       "      <td>0.0436</td>\n",
       "      <td>-0.0024</td>\n",
       "      <td>-5.22</td>\n",
       "      <td>290.487</td>\n",
       "      <td>85.753</td>\n",
       "      <td>9.785</td>\n",
       "    </tr>\n",
       "    <tr>\n",
       "      <th>4</th>\n",
       "      <td>BBSN.L</td>\n",
       "      <td>Brave Bison Group plc</td>\n",
       "      <td>2.3750</td>\n",
       "      <td>0.0000</td>\n",
       "      <td>0.00</td>\n",
       "      <td>193.223</td>\n",
       "      <td>1.347</td>\n",
       "      <td>30.574</td>\n",
       "    </tr>\n",
       "  </tbody>\n",
       "</table>\n",
       "</div>"
      ],
      "text/plain": [
       "   Symbol                          Name  Price(intraday) $  Change  % change  \\\n",
       "0  KIBO.L               Kibo Mining Plc             0.0575 -0.0050     -8.00   \n",
       "1   BCE.L             Beacon Energy plc             0.1911 -0.0164     -7.90   \n",
       "2  ICON.L               Iconic Labs Plc             0.0030 -0.0003     -7.69   \n",
       "3  UKOG.L  UK Oil & Gas Investments PLC             0.0436 -0.0024     -5.22   \n",
       "4  BBSN.L         Brave Bison Group plc             2.3750  0.0000      0.00   \n",
       "\n",
       "   Volume(M)  Avg vol (3-month) (M)  Market cap (M)  \n",
       "0    450.000                 15.398           2.173  \n",
       "1    323.652                110.186          20.081  \n",
       "2    356.554                412.710           2.315  \n",
       "3    290.487                 85.753           9.785  \n",
       "4    193.223                  1.347          30.574  "
      ]
     },
     "execution_count": 20,
     "metadata": {},
     "output_type": "execute_result"
    }
   ],
   "source": [
    "stocks.head()"
   ]
  },
  {
   "cell_type": "code",
   "execution_count": 21,
   "id": "84966878",
   "metadata": {},
   "outputs": [
    {
     "data": {
      "text/plain": [
       "Symbol                    object\n",
       "Name                      object\n",
       "Price(intraday) $        float64\n",
       "Change                   float64\n",
       "% change                 float64\n",
       "Volume(M)                float64\n",
       "Avg vol (3-month) (M)    float64\n",
       "Market cap (M)           float64\n",
       "dtype: object"
      ]
     },
     "execution_count": 21,
     "metadata": {},
     "output_type": "execute_result"
    }
   ],
   "source": [
    "stocks.dtypes"
   ]
  },
  {
   "cell_type": "code",
   "execution_count": 22,
   "id": "1d5d10b3",
   "metadata": {},
   "outputs": [
    {
     "name": "stdout",
     "output_type": "stream",
     "text": [
      "<class 'pandas.core.frame.DataFrame'>\n",
      "RangeIndex: 25 entries, 0 to 24\n",
      "Data columns (total 8 columns):\n",
      " #   Column                 Non-Null Count  Dtype  \n",
      "---  ------                 --------------  -----  \n",
      " 0   Symbol                 25 non-null     object \n",
      " 1   Name                   25 non-null     object \n",
      " 2   Price(intraday) $      25 non-null     float64\n",
      " 3   Change                 25 non-null     float64\n",
      " 4   % change               25 non-null     float64\n",
      " 5   Volume(M)              25 non-null     float64\n",
      " 6   Avg vol (3-month) (M)  16 non-null     float64\n",
      " 7   Market cap (M)         17 non-null     float64\n",
      "dtypes: float64(6), object(2)\n",
      "memory usage: 1.7+ KB\n"
     ]
    }
   ],
   "source": [
    "stocks.info()"
   ]
  },
  {
   "cell_type": "markdown",
   "id": "5e400626",
   "metadata": {},
   "source": [
    "We can see there are null data in the Volume,Avg vol and Market cap columns , for this the best thing would be to drop the data as it will vastly inaccurate to calcuate means or medians for the whole colum and apply it to the null values"
   ]
  },
  {
   "cell_type": "code",
   "execution_count": 23,
   "id": "679394ab",
   "metadata": {},
   "outputs": [],
   "source": [
    "stocks = stocks.dropna()"
   ]
  },
  {
   "cell_type": "code",
   "execution_count": 24,
   "id": "0aacf880",
   "metadata": {},
   "outputs": [],
   "source": [
    "stocks = stocks.reset_index()"
   ]
  },
  {
   "cell_type": "code",
   "execution_count": 25,
   "id": "61facf7a",
   "metadata": {},
   "outputs": [
    {
     "data": {
      "text/plain": [
       "'The dataframe now has 15 rows and 9 columns '"
      ]
     },
     "execution_count": 25,
     "metadata": {},
     "output_type": "execute_result"
    }
   ],
   "source": [
    "s = stocks.shape\n",
    "\n",
    "f\"The dataframe now has {s[0]} rows and {s[1]} columns \""
   ]
  },
  {
   "cell_type": "code",
   "execution_count": 26,
   "id": "2972ba12",
   "metadata": {},
   "outputs": [
    {
     "name": "stdout",
     "output_type": "stream",
     "text": [
      "<class 'pandas.core.frame.DataFrame'>\n",
      "RangeIndex: 15 entries, 0 to 14\n",
      "Data columns (total 9 columns):\n",
      " #   Column                 Non-Null Count  Dtype  \n",
      "---  ------                 --------------  -----  \n",
      " 0   index                  15 non-null     int64  \n",
      " 1   Symbol                 15 non-null     object \n",
      " 2   Name                   15 non-null     object \n",
      " 3   Price(intraday) $      15 non-null     float64\n",
      " 4   Change                 15 non-null     float64\n",
      " 5   % change               15 non-null     float64\n",
      " 6   Volume(M)              15 non-null     float64\n",
      " 7   Avg vol (3-month) (M)  15 non-null     float64\n",
      " 8   Market cap (M)         15 non-null     float64\n",
      "dtypes: float64(6), int64(1), object(2)\n",
      "memory usage: 1.2+ KB\n"
     ]
    }
   ],
   "source": [
    "stocks.info()"
   ]
  },
  {
   "cell_type": "markdown",
   "id": "7ef74c5e",
   "metadata": {},
   "source": [
    "There are no more null values.\n",
    "\n",
    "Even though there isn't many stocks, this list is the most active stocks at the moment so the list is consistently changing, also when dealing with stocks (from my experience) it's best to deal with a smaller number of them so you can analyse each one in more detail"
   ]
  },
  {
   "cell_type": "markdown",
   "id": "c12e0342",
   "metadata": {},
   "source": [
    "### Feature Engineering "
   ]
  },
  {
   "cell_type": "markdown",
   "id": "fbcbf371",
   "metadata": {},
   "source": [
    "Volume ratio is a great way to if the current trading volume is greater than avg, if it is it will be greater than 1, however it's also a great way to see the reason behind the surge in volume, if it is greater than 1 then it can be a 1 time demand or supply side shock causing people to become more interested in the stock, so you can trade these stocks to gain something in the short term, however if the ratio is relatively low less than 1 or even below 0.5, it shows the stock is somewhat stable and that it's an external shock doesn't effect it as much, so these stocks may be good places to hold money or potential long term investments."
   ]
  },
  {
   "cell_type": "code",
   "execution_count": 27,
   "id": "e755582f",
   "metadata": {},
   "outputs": [],
   "source": [
    "stocks[\"Volume_ratio\"] = stocks[\"Volume(M)\"]/stocks[\"Avg vol (3-month) (M)\"]"
   ]
  },
  {
   "cell_type": "code",
   "execution_count": 28,
   "id": "718e0f79",
   "metadata": {
    "scrolled": true
   },
   "outputs": [
    {
     "data": {
      "text/html": [
       "<div>\n",
       "<style scoped>\n",
       "    .dataframe tbody tr th:only-of-type {\n",
       "        vertical-align: middle;\n",
       "    }\n",
       "\n",
       "    .dataframe tbody tr th {\n",
       "        vertical-align: top;\n",
       "    }\n",
       "\n",
       "    .dataframe thead th {\n",
       "        text-align: right;\n",
       "    }\n",
       "</style>\n",
       "<table border=\"1\" class=\"dataframe\">\n",
       "  <thead>\n",
       "    <tr style=\"text-align: right;\">\n",
       "      <th></th>\n",
       "      <th>index</th>\n",
       "      <th>Symbol</th>\n",
       "      <th>Name</th>\n",
       "      <th>Price(intraday) $</th>\n",
       "      <th>Change</th>\n",
       "      <th>% change</th>\n",
       "      <th>Volume(M)</th>\n",
       "      <th>Avg vol (3-month) (M)</th>\n",
       "      <th>Market cap (M)</th>\n",
       "      <th>Volume_ratio</th>\n",
       "    </tr>\n",
       "  </thead>\n",
       "  <tbody>\n",
       "    <tr>\n",
       "      <th>10</th>\n",
       "      <td>13</td>\n",
       "      <td>SYME.L</td>\n",
       "      <td>Supply@ME Capital plc</td>\n",
       "      <td>0.1208</td>\n",
       "      <td>0.0008</td>\n",
       "      <td>0.67</td>\n",
       "      <td>49.046</td>\n",
       "      <td>248.180</td>\n",
       "      <td>77.778</td>\n",
       "      <td>0.197623</td>\n",
       "    </tr>\n",
       "    <tr>\n",
       "      <th>11</th>\n",
       "      <td>15</td>\n",
       "      <td>TRP.L</td>\n",
       "      <td>Tower Resources plc</td>\n",
       "      <td>0.0377</td>\n",
       "      <td>0.0007</td>\n",
       "      <td>1.89</td>\n",
       "      <td>39.412</td>\n",
       "      <td>161.840</td>\n",
       "      <td>3.183</td>\n",
       "      <td>0.243524</td>\n",
       "    </tr>\n",
       "    <tr>\n",
       "      <th>12</th>\n",
       "      <td>17</td>\n",
       "      <td>LOGP.L</td>\n",
       "      <td>Lansdowne Oil &amp; Gas plc</td>\n",
       "      <td>0.0950</td>\n",
       "      <td>-0.0050</td>\n",
       "      <td>-5.00</td>\n",
       "      <td>36.000</td>\n",
       "      <td>5.284</td>\n",
       "      <td>1.101</td>\n",
       "      <td>6.813020</td>\n",
       "    </tr>\n",
       "    <tr>\n",
       "      <th>13</th>\n",
       "      <td>20</td>\n",
       "      <td>UFO.L</td>\n",
       "      <td>Alien Metals Ltd</td>\n",
       "      <td>0.1699</td>\n",
       "      <td>-0.0121</td>\n",
       "      <td>-6.65</td>\n",
       "      <td>34.568</td>\n",
       "      <td>24.870</td>\n",
       "      <td>16.842</td>\n",
       "      <td>1.389948</td>\n",
       "    </tr>\n",
       "    <tr>\n",
       "      <th>14</th>\n",
       "      <td>24</td>\n",
       "      <td>SCIR.L</td>\n",
       "      <td>Scirocco Energy Plc</td>\n",
       "      <td>0.5500</td>\n",
       "      <td>0.0000</td>\n",
       "      <td>0.00</td>\n",
       "      <td>25.650</td>\n",
       "      <td>1.381</td>\n",
       "      <td>4.953</td>\n",
       "      <td>18.573497</td>\n",
       "    </tr>\n",
       "  </tbody>\n",
       "</table>\n",
       "</div>"
      ],
      "text/plain": [
       "    index  Symbol                     Name  Price(intraday) $  Change  \\\n",
       "10     13  SYME.L    Supply@ME Capital plc             0.1208  0.0008   \n",
       "11     15   TRP.L      Tower Resources plc             0.0377  0.0007   \n",
       "12     17  LOGP.L  Lansdowne Oil & Gas plc             0.0950 -0.0050   \n",
       "13     20   UFO.L         Alien Metals Ltd             0.1699 -0.0121   \n",
       "14     24  SCIR.L      Scirocco Energy Plc             0.5500  0.0000   \n",
       "\n",
       "    % change  Volume(M)  Avg vol (3-month) (M)  Market cap (M)  Volume_ratio  \n",
       "10      0.67     49.046                248.180          77.778      0.197623  \n",
       "11      1.89     39.412                161.840           3.183      0.243524  \n",
       "12     -5.00     36.000                  5.284           1.101      6.813020  \n",
       "13     -6.65     34.568                 24.870          16.842      1.389948  \n",
       "14      0.00     25.650                  1.381           4.953     18.573497  "
      ]
     },
     "execution_count": 28,
     "metadata": {},
     "output_type": "execute_result"
    }
   ],
   "source": [
    "stocks.tail()"
   ]
  },
  {
   "cell_type": "code",
   "execution_count": 29,
   "id": "53db735b",
   "metadata": {},
   "outputs": [],
   "source": [
    "stocks = stocks.reset_index(drop=True)"
   ]
  },
  {
   "cell_type": "code",
   "execution_count": 30,
   "id": "e199506e",
   "metadata": {},
   "outputs": [
    {
     "data": {
      "text/html": [
       "<div>\n",
       "<style scoped>\n",
       "    .dataframe tbody tr th:only-of-type {\n",
       "        vertical-align: middle;\n",
       "    }\n",
       "\n",
       "    .dataframe tbody tr th {\n",
       "        vertical-align: top;\n",
       "    }\n",
       "\n",
       "    .dataframe thead th {\n",
       "        text-align: right;\n",
       "    }\n",
       "</style>\n",
       "<table border=\"1\" class=\"dataframe\">\n",
       "  <thead>\n",
       "    <tr style=\"text-align: right;\">\n",
       "      <th></th>\n",
       "      <th>index</th>\n",
       "      <th>Symbol</th>\n",
       "      <th>Name</th>\n",
       "      <th>Price(intraday) $</th>\n",
       "      <th>Change</th>\n",
       "      <th>% change</th>\n",
       "      <th>Volume(M)</th>\n",
       "      <th>Avg vol (3-month) (M)</th>\n",
       "      <th>Market cap (M)</th>\n",
       "      <th>Volume_ratio</th>\n",
       "    </tr>\n",
       "  </thead>\n",
       "  <tbody>\n",
       "    <tr>\n",
       "      <th>0</th>\n",
       "      <td>0</td>\n",
       "      <td>KIBO.L</td>\n",
       "      <td>Kibo Mining Plc</td>\n",
       "      <td>0.0575</td>\n",
       "      <td>-0.0050</td>\n",
       "      <td>-8.00</td>\n",
       "      <td>450.000</td>\n",
       "      <td>15.398</td>\n",
       "      <td>2.173</td>\n",
       "      <td>29.224575</td>\n",
       "    </tr>\n",
       "    <tr>\n",
       "      <th>1</th>\n",
       "      <td>1</td>\n",
       "      <td>BCE.L</td>\n",
       "      <td>Beacon Energy plc</td>\n",
       "      <td>0.1911</td>\n",
       "      <td>-0.0164</td>\n",
       "      <td>-7.90</td>\n",
       "      <td>323.652</td>\n",
       "      <td>110.186</td>\n",
       "      <td>20.081</td>\n",
       "      <td>2.937324</td>\n",
       "    </tr>\n",
       "    <tr>\n",
       "      <th>2</th>\n",
       "      <td>2</td>\n",
       "      <td>ICON.L</td>\n",
       "      <td>Iconic Labs Plc</td>\n",
       "      <td>0.0030</td>\n",
       "      <td>-0.0003</td>\n",
       "      <td>-7.69</td>\n",
       "      <td>356.554</td>\n",
       "      <td>412.710</td>\n",
       "      <td>2.315</td>\n",
       "      <td>0.863934</td>\n",
       "    </tr>\n",
       "    <tr>\n",
       "      <th>3</th>\n",
       "      <td>3</td>\n",
       "      <td>UKOG.L</td>\n",
       "      <td>UK Oil &amp; Gas Investments PLC</td>\n",
       "      <td>0.0436</td>\n",
       "      <td>-0.0024</td>\n",
       "      <td>-5.22</td>\n",
       "      <td>290.487</td>\n",
       "      <td>85.753</td>\n",
       "      <td>9.785</td>\n",
       "      <td>3.387485</td>\n",
       "    </tr>\n",
       "    <tr>\n",
       "      <th>4</th>\n",
       "      <td>4</td>\n",
       "      <td>BBSN.L</td>\n",
       "      <td>Brave Bison Group plc</td>\n",
       "      <td>2.3750</td>\n",
       "      <td>0.0000</td>\n",
       "      <td>0.00</td>\n",
       "      <td>193.223</td>\n",
       "      <td>1.347</td>\n",
       "      <td>30.574</td>\n",
       "      <td>143.446919</td>\n",
       "    </tr>\n",
       "  </tbody>\n",
       "</table>\n",
       "</div>"
      ],
      "text/plain": [
       "   index  Symbol                          Name  Price(intraday) $  Change  \\\n",
       "0      0  KIBO.L               Kibo Mining Plc             0.0575 -0.0050   \n",
       "1      1   BCE.L             Beacon Energy plc             0.1911 -0.0164   \n",
       "2      2  ICON.L               Iconic Labs Plc             0.0030 -0.0003   \n",
       "3      3  UKOG.L  UK Oil & Gas Investments PLC             0.0436 -0.0024   \n",
       "4      4  BBSN.L         Brave Bison Group plc             2.3750  0.0000   \n",
       "\n",
       "   % change  Volume(M)  Avg vol (3-month) (M)  Market cap (M)  Volume_ratio  \n",
       "0     -8.00    450.000                 15.398           2.173     29.224575  \n",
       "1     -7.90    323.652                110.186          20.081      2.937324  \n",
       "2     -7.69    356.554                412.710           2.315      0.863934  \n",
       "3     -5.22    290.487                 85.753           9.785      3.387485  \n",
       "4      0.00    193.223                  1.347          30.574    143.446919  "
      ]
     },
     "execution_count": 30,
     "metadata": {},
     "output_type": "execute_result"
    }
   ],
   "source": [
    "stocks.head()"
   ]
  },
  {
   "cell_type": "markdown",
   "id": "1cce9ec8",
   "metadata": {},
   "source": [
    "### Data Visualisation"
   ]
  },
  {
   "cell_type": "markdown",
   "id": "4130d4be",
   "metadata": {},
   "source": [
    "For stocks the most impactful factors would be the type of company they are, this can be seen from their market volume or market value . Investment strategies would depend on how much a stock fluctuates, this can be seen from the change and more importantly the % change as this will give a more scaled look at stock fluctuations. \n"
   ]
  },
  {
   "cell_type": "code",
   "execution_count": 31,
   "id": "e8de1e67",
   "metadata": {},
   "outputs": [],
   "source": [
    "stocks_copy = stocks.copy()"
   ]
  },
  {
   "cell_type": "code",
   "execution_count": 32,
   "id": "61546505",
   "metadata": {},
   "outputs": [],
   "source": [
    "stocks_copy=stocks_copy.drop([\"index\",\"Symbol\",\"Name\"],axis=1)"
   ]
  },
  {
   "cell_type": "code",
   "execution_count": 33,
   "id": "9af38086",
   "metadata": {},
   "outputs": [
    {
     "data": {
      "text/plain": [
       "<AxesSubplot:>"
      ]
     },
     "execution_count": 33,
     "metadata": {},
     "output_type": "execute_result"
    },
    {
     "data": {
      "image/png": "[encoded data removed]",
      "text/plain": [
       "<Figure size 640x480 with 2 Axes>"
      ]
     },
     "metadata": {},
     "output_type": "display_data"
    }
   ],
   "source": [
    "sns.heatmap(stocks_copy.corr(),annot=True,cmap=\"cividis\")"
   ]
  },
  {
   "cell_type": "markdown",
   "id": "865f1d89",
   "metadata": {},
   "source": [
    "##### Notable takeaways\n",
    "* Price and change seem to be very closely correlated (makes sense as the change is relative, so if a company trades at a higher price then any change in their share price would be noticeably bigger than a much smaller company)\n",
    "\n",
    "* Same reasoning above can be applied to the close relationship between volume and avg volume \n",
    "\n",
    "* Overall a combination of many factors will relate towards the price of a stock, macro factors such as the current economic climate of the market the company exists in and micro factors such as the activities of the company are factors that effect the price a stock trades at\n",
    "\n",
    "* So the best thing to do in this case would be to just categorise similar stocks to one another and find relations ways to invest via these similarities \n"
   ]
  },
  {
   "cell_type": "markdown",
   "id": "9bef5eea",
   "metadata": {},
   "source": [
    "#### Also want to have a look at the split of the companies based upon their volume ratios to see how many of these stocks are potential long term investments "
   ]
  },
  {
   "cell_type": "code",
   "execution_count": 34,
   "id": "3d15da55",
   "metadata": {},
   "outputs": [
    {
     "data": {
      "image/png": "[encoded data removed]",
      "text/plain": [
       "<Figure size 600x600 with 1 Axes>"
      ]
     },
     "metadata": {},
     "output_type": "display_data"
    }
   ],
   "source": [
    "\n",
    "above_threshold = len(stocks[stocks[\"Volume_ratio\"] >= 1])\n",
    "below_threshold = len(stocks[stocks[\"Volume_ratio\"] < 1])\n",
    "\n",
    "data = [above_threshold,below_threshold]\n",
    "labels = [\"Above_Threshold\",\"Below_Threshold\"]\n",
    "colors=[\"pink\",\"green\"]\n",
    "\n",
    "plt.figure(figsize=(6,6))\n",
    "plt.pie(data,labels=labels,colors=colors,autopct=\"%1.1f%%\")\n",
    "plt.title(\"Split of the volume ratios, threshold being 1\")\n",
    "plt.axis(\"equal\") \n",
    "plt.show()"
   ]
  },
  {
   "cell_type": "markdown",
   "id": "71bbf1bd",
   "metadata": {},
   "source": [
    "From the pi chart about 2/3 of the data is below the threshold indicating that the current volume isn't a one off so incident so it may be good for long term investment opportunities, likewsise 1/3 of the data indicates the current volume is a one off event so may either stay away from these stocks or try to get a small gain in some short term trades  "
   ]
  },
  {
   "cell_type": "markdown",
   "id": "d809b120",
   "metadata": {},
   "source": [
    "### Scaling the data \n",
    "\n",
    "Need to scale the data as the clustering model is a distance based model so any values too large or too small will cause errors when training the model "
   ]
  },
  {
   "cell_type": "code",
   "execution_count": 35,
   "id": "fb8d2df9",
   "metadata": {
    "scrolled": true
   },
   "outputs": [
    {
     "data": {
      "text/plain": [
       "array([[-4.01205314e-01, -8.12649932e-04, -1.12426660e+00,\n",
       "         2.23990563e+00, -8.55262089e-01, -5.99758256e-01,\n",
       "         4.25807462e-01],\n",
       "       [-1.69360264e-01, -1.39044403e+00, -1.10365550e+00,\n",
       "         1.30628013e+00, -6.79076711e-02, -1.47759110e-02,\n",
       "        -3.15547970e-01],\n",
       "       [-4.95782823e-01,  5.72105552e-01, -1.06037220e+00,\n",
       "         1.54940345e+00,  2.44500122e+00, -5.95119687e-01,\n",
       "        -3.74021921e-01],\n",
       "       [-4.25326917e-01,  3.16120823e-01, -5.51278122e-01,\n",
       "         1.06121341e+00, -2.70859843e-01, -3.51104827e-01,\n",
       "        -3.02852493e-01],\n",
       "       [ 3.62050804e+00,  6.08674799e-01,  5.24621104e-01,\n",
       "         3.42498814e-01, -9.71976409e-01,  3.27988203e-01,\n",
       "         3.64711642e+00],\n",
       "       [-4.66455118e-01,  7.79331285e-01,  2.08488109e+00,\n",
       "        -2.55718175e-01, -4.68703531e-01, -5.59219777e-01,\n",
       "        -3.47266350e-01],\n",
       "       [-4.57778283e-01,  7.79331285e-01,  1.75304244e+00,\n",
       "        -3.70954584e-01, -5.57250585e-01, -5.97798298e-01,\n",
       "        -3.45216017e-01],\n",
       "       [ 1.94025615e-01, -2.98730115e+00, -8.89300101e-01,\n",
       "        -4.93794600e-01,  1.68873795e+00,  2.93254468e+00,\n",
       "        -3.91368504e-01],\n",
       "       [-3.42376368e-01,  1.69843836e-01, -2.56539445e-01,\n",
       "        -6.20395779e-01,  3.94057092e-01, -4.43059557e-02,\n",
       "        -3.87685232e-01],\n",
       "       [-2.40510317e-01,  1.13770990e-02, -1.26689538e-01,\n",
       "        -6.96631370e-01, -8.77767660e-02, -5.37333571e-01,\n",
       "        -3.84625726e-01],\n",
       "       [-2.91356574e-01,  7.06192791e-01,  6.62715449e-01,\n",
       "        -7.22870837e-01,  1.07833643e+00,  1.86995306e+00,\n",
       "        -3.92813280e-01],\n",
       "       [-4.35565583e-01,  6.94003042e-01,  9.14170824e-01,\n",
       "        -7.94059523e-01,  3.61155133e-01, -5.66765618e-01,\n",
       "        -3.91518754e-01],\n",
       "       [-3.36129046e-01, -8.12649932e-04, -5.05933710e-01,\n",
       "        -8.19271875e-01, -9.39273805e-01, -6.34776185e-01,\n",
       "        -2.06245230e-01],\n",
       "       [-2.06150047e-01, -8.66284827e-01, -8.46016799e-01,\n",
       "        -8.29853377e-01, -7.76583131e-01, -1.20581016e-01,\n",
       "        -3.59187221e-01],\n",
       "       [ 4.53463003e-01,  6.08674799e-01,  5.24621104e-01,\n",
       "        -8.95751312e-01, -9.71693988e-01, -5.08946836e-01,\n",
       "         1.25424814e-01]])"
      ]
     },
     "execution_count": 35,
     "metadata": {},
     "output_type": "execute_result"
    }
   ],
   "source": [
    "scaler=StandardScaler()\n",
    "scaler.fit(stocks_copy)\n",
    "stocks_modif=scaler.transform(stocks_copy)\n",
    "stocks_modif"
   ]
  },
  {
   "cell_type": "markdown",
   "id": "cf096f56",
   "metadata": {},
   "source": [
    "### Choosing K\n",
    "\n",
    "Create an elbow curve to find best value for K, do this by seeing at which no.of clusters the inertias stop changing by a significant amount"
   ]
  },
  {
   "cell_type": "code",
   "execution_count": 36,
   "id": "b8738370",
   "metadata": {},
   "outputs": [
    {
     "name": "stderr",
     "output_type": "stream",
     "text": [
      "C:\\ana\\lib\\site-packages\\sklearn\\cluster\\_kmeans.py:1036: UserWarning: KMeans is known to have a memory leak on Windows with MKL, when there are less chunks than available threads. You can avoid it by setting the environment variable OMP_NUM_THREADS=1.\n",
      "  warnings.warn(\n"
     ]
    },
    {
     "data": {
      "image/png": "[encoded data removed]",
      "text/plain": [
       "<Figure size 640x480 with 1 Axes>"
      ]
     },
     "metadata": {},
     "output_type": "display_data"
    }
   ],
   "source": [
    "sns.set_style(style=\"whitegrid\")\n",
    "inertias=[]\n",
    "\n",
    "for i in range(1,11):\n",
    "    model=KMeans(n_clusters=i,init=\"k-means++\",random_state=50)\n",
    "    clusters=model.fit_predict(stocks_modif)\n",
    "    inertias.append(model.inertia_)\n",
    "    \n",
    "plt.plot(range(1,11),inertias,marker=\"X\")\n",
    "plt.title(\"Inertias vs no. of clusters\")\n",
    "plt.show()\n"
   ]
  },
  {
   "cell_type": "markdown",
   "id": "640b19e1",
   "metadata": {},
   "source": [
    "To gain a more clearer view on when the inertias stop changing by a significant amount, could look a the % change of inertias "
   ]
  },
  {
   "cell_type": "code",
   "execution_count": 37,
   "id": "652a6e5d",
   "metadata": {},
   "outputs": [
    {
     "name": "stderr",
     "output_type": "stream",
     "text": [
      "C:\\ana\\lib\\site-packages\\sklearn\\cluster\\_kmeans.py:1036: UserWarning: KMeans is known to have a memory leak on Windows with MKL, when there are less chunks than available threads. You can avoid it by setting the environment variable OMP_NUM_THREADS=1.\n",
      "  warnings.warn(\n"
     ]
    }
   ],
   "source": [
    "percentages = []\n",
    "\n",
    "for i in range(12):\n",
    "    model1 = KMeans(n_clusters=i+1,init=\"k-means++\",random_state=0)\n",
    "    model2 = KMeans(n_clusters=i+2,init=\"k-means++\",random_state=0)\n",
    "    clusters1=model1.fit_predict(stocks_modif)\n",
    "    clusters2=model2.fit_predict(stocks_modif)\n",
    "    inertia1=model1.inertia_\n",
    "    inertia2=model2.inertia_\n",
    "    percent =(inertia1 - inertia2)/inertia1 *100\n",
    "    percentages.append(percent)\n",
    "    "
   ]
  },
  {
   "cell_type": "code",
   "execution_count": 38,
   "id": "a7e2b56e",
   "metadata": {},
   "outputs": [
    {
     "data": {
      "image/png": "[encoded data removed]",
      "text/plain": [
       "<Figure size 640x480 with 1 Axes>"
      ]
     },
     "metadata": {},
     "output_type": "display_data"
    }
   ],
   "source": [
    "plt.plot(range(1,13),percentages,marker=\"X\")\n",
    "plt.title(\"Inertia vs no. of clusters\", weight=\"bold\")\n",
    "plt.ylabel(\"% Change \")\n",
    "plt.xlabel(\"Number of Clusters\")\n",
    "plt.show()"
   ]
  },
  {
   "cell_type": "markdown",
   "id": "5b24bb38",
   "metadata": {},
   "source": [
    "From this the best number of clusters is between 5 or 6, in this case I would go with 6 as we want accurate clusters"
   ]
  },
  {
   "cell_type": "markdown",
   "id": "1a30cc7b",
   "metadata": {},
   "source": [
    "##### Potential issue : as the data we scrape changes in livetime the most optimal number of clusters may vary every time, which may cause inaccurate clusters to form\n",
    "\n",
    "To solve this need to automate the process, to do this we need to :\n",
    "* Form a line from the start and end point of the elbow curve \n",
    "* Then find the X values (number of clusters) where the distance from the line and the elbow curve is at its maximum, this is because the elbow curve, at the maximum no of clusters, turns and starts upwards closer to the line and at the beginning it moves away from the line"
   ]
  },
  {
   "cell_type": "code",
   "execution_count": 39,
   "id": "11b90090",
   "metadata": {},
   "outputs": [
    {
     "name": "stderr",
     "output_type": "stream",
     "text": [
      "C:\\ana\\lib\\site-packages\\sklearn\\cluster\\_kmeans.py:1036: UserWarning: KMeans is known to have a memory leak on Windows with MKL, when there are less chunks than available threads. You can avoid it by setting the environment variable OMP_NUM_THREADS=1.\n",
      "  warnings.warn(\n"
     ]
    }
   ],
   "source": [
    "inertias =[]\n",
    "\n",
    "for k in range(13):\n",
    "    model = KMeans(n_clusters=k+1)\n",
    "    model.fit(stocks_modif)\n",
    "    inertias.append(model.inertia_)"
   ]
  },
  {
   "cell_type": "code",
   "execution_count": 40,
   "id": "8e1a5319",
   "metadata": {
    "scrolled": false
   },
   "outputs": [
    {
     "data": {
      "text/plain": [
       "[105.00000000000001,\n",
       " 81.07811251303173,\n",
       " 51.93484222248789,\n",
       " 31.26361756810164,\n",
       " 22.892507711744898,\n",
       " 16.01940709229991,\n",
       " 9.565041542115488,\n",
       " 7.438861857693954,\n",
       " 5.640877553756288,\n",
       " 3.4711900515913934,\n",
       " 2.094710212347355,\n",
       " 0.931088349462061,\n",
       " 0.333107706544998]"
      ]
     },
     "execution_count": 40,
     "metadata": {},
     "output_type": "execute_result"
    }
   ],
   "source": [
    "inertias"
   ]
  },
  {
   "cell_type": "code",
   "execution_count": 41,
   "id": "f5cad4df",
   "metadata": {},
   "outputs": [
    {
     "data": {
      "image/png": "[encoded data removed]",
      "text/plain": [
       "<Figure size 640x480 with 1 Axes>"
      ]
     },
     "metadata": {},
     "output_type": "display_data"
    }
   ],
   "source": [
    "K=range(13)\n",
    "plt.plot(K,inertias,marker=\"X\")\n",
    "plt.plot([K[0],K[12]],[[inertias[0]],[inertias[12]]],\"ro-\")\n",
    "plt.show()"
   ]
  },
  {
   "cell_type": "markdown",
   "id": "d7231603",
   "metadata": {},
   "source": [
    "#### Function to find distance\n",
    "\n"
   ]
  },
  {
   "cell_type": "code",
   "execution_count": 42,
   "id": "69e8966c",
   "metadata": {},
   "outputs": [],
   "source": [
    "def distance(x1,y1,a,b,c):\n",
    "    d=abs(a*x1+b*y1+c)/math.sqrt(a**2+b**2)\n",
    "    return d \n",
    "\n",
    "a=inertias[0]-inertias[12]\n",
    "b=K[8]-K[0]\n",
    "c1=K[0]*inertias[12]\n",
    "c2=K[12]*inertias[0]\n",
    "c=c1-c2"
   ]
  },
  {
   "cell_type": "code",
   "execution_count": 43,
   "id": "fc3af2ce",
   "metadata": {},
   "outputs": [
    {
     "data": {
      "text/plain": [
       "[4.00106013244116,\n",
       " 4.827071448138682,\n",
       " 6.051007841390489,\n",
       " 6.629283967307968,\n",
       " 6.270160113361725,\n",
       " 5.796871973018601,\n",
       " 5.291671752834079,\n",
       " 4.456617591443858,\n",
       " 3.5965514404821053,\n",
       " 2.7648130389970733,\n",
       " 1.8726237507147176,\n",
       " 0.9642124136117709,\n",
       " 0.012693180613962138]"
      ]
     },
     "execution_count": 43,
     "metadata": {},
     "output_type": "execute_result"
    }
   ],
   "source": [
    "K=range(13)\n",
    "distances=[]\n",
    "for k in range(13):\n",
    "    dist = distance(K[k],inertias[k],a,b,c)\n",
    "    distances.append(dist)\n",
    "distances"
   ]
  },
  {
   "cell_type": "code",
   "execution_count": 44,
   "id": "81ea6176",
   "metadata": {},
   "outputs": [
    {
     "data": {
      "text/plain": [
       "[<matplotlib.lines.Line2D at 0x1c0faf7e730>]"
      ]
     },
     "execution_count": 44,
     "metadata": {},
     "output_type": "execute_result"
    },
    {
     "data": {
      "image/png": "[encoded data removed]",
      "text/plain": [
       "<Figure size 640x480 with 1 Axes>"
      ]
     },
     "metadata": {},
     "output_type": "display_data"
    }
   ],
   "source": [
    "plt.plot(K,distances)"
   ]
  },
  {
   "cell_type": "code",
   "execution_count": 45,
   "id": "7c2fb8b2",
   "metadata": {},
   "outputs": [
    {
     "data": {
      "text/plain": [
       "4"
      ]
     },
     "execution_count": 45,
     "metadata": {},
     "output_type": "execute_result"
    }
   ],
   "source": [
    "max_k=distances.index(max(distances))+1\n",
    "max_k"
   ]
  },
  {
   "cell_type": "markdown",
   "id": "b66d5def",
   "metadata": {},
   "source": [
    "### Clustering Implementation\n",
    "\n",
    "Implementing the model with the number of clusters we want, and then making sure to add 1 to the clusters array before we add it to the dataframe"
   ]
  },
  {
   "cell_type": "code",
   "execution_count": 46,
   "id": "81b156d7",
   "metadata": {},
   "outputs": [
    {
     "data": {
      "text/plain": [
       "array([0, 0, 0, 0, 3, 1, 1, 2, 1, 1, 1, 1, 1, 1, 1])"
      ]
     },
     "execution_count": 46,
     "metadata": {},
     "output_type": "execute_result"
    }
   ],
   "source": [
    "model = KMeans (n_clusters=max_k,random_state=50)\n",
    "\n",
    "clusters = model.fit_predict(stocks_modif)\n",
    "clusters"
   ]
  },
  {
   "cell_type": "code",
   "execution_count": 47,
   "id": "069f81c2",
   "metadata": {},
   "outputs": [],
   "source": [
    "stocks[\"Cluster\"]=clusters+1"
   ]
  },
  {
   "cell_type": "code",
   "execution_count": 48,
   "id": "8b789551",
   "metadata": {},
   "outputs": [
    {
     "data": {
      "text/html": [
       "<div>\n",
       "<style scoped>\n",
       "    .dataframe tbody tr th:only-of-type {\n",
       "        vertical-align: middle;\n",
       "    }\n",
       "\n",
       "    .dataframe tbody tr th {\n",
       "        vertical-align: top;\n",
       "    }\n",
       "\n",
       "    .dataframe thead th {\n",
       "        text-align: right;\n",
       "    }\n",
       "</style>\n",
       "<table border=\"1\" class=\"dataframe\">\n",
       "  <thead>\n",
       "    <tr style=\"text-align: right;\">\n",
       "      <th></th>\n",
       "      <th>index</th>\n",
       "      <th>Symbol</th>\n",
       "      <th>Name</th>\n",
       "      <th>Price(intraday) $</th>\n",
       "      <th>Change</th>\n",
       "      <th>% change</th>\n",
       "      <th>Volume(M)</th>\n",
       "      <th>Avg vol (3-month) (M)</th>\n",
       "      <th>Market cap (M)</th>\n",
       "      <th>Volume_ratio</th>\n",
       "      <th>Cluster</th>\n",
       "    </tr>\n",
       "  </thead>\n",
       "  <tbody>\n",
       "    <tr>\n",
       "      <th>0</th>\n",
       "      <td>0</td>\n",
       "      <td>KIBO.L</td>\n",
       "      <td>Kibo Mining Plc</td>\n",
       "      <td>0.0575</td>\n",
       "      <td>-0.0050</td>\n",
       "      <td>-8.00</td>\n",
       "      <td>450.000</td>\n",
       "      <td>15.398</td>\n",
       "      <td>2.173</td>\n",
       "      <td>29.224575</td>\n",
       "      <td>1</td>\n",
       "    </tr>\n",
       "    <tr>\n",
       "      <th>1</th>\n",
       "      <td>1</td>\n",
       "      <td>BCE.L</td>\n",
       "      <td>Beacon Energy plc</td>\n",
       "      <td>0.1911</td>\n",
       "      <td>-0.0164</td>\n",
       "      <td>-7.90</td>\n",
       "      <td>323.652</td>\n",
       "      <td>110.186</td>\n",
       "      <td>20.081</td>\n",
       "      <td>2.937324</td>\n",
       "      <td>1</td>\n",
       "    </tr>\n",
       "    <tr>\n",
       "      <th>2</th>\n",
       "      <td>2</td>\n",
       "      <td>ICON.L</td>\n",
       "      <td>Iconic Labs Plc</td>\n",
       "      <td>0.0030</td>\n",
       "      <td>-0.0003</td>\n",
       "      <td>-7.69</td>\n",
       "      <td>356.554</td>\n",
       "      <td>412.710</td>\n",
       "      <td>2.315</td>\n",
       "      <td>0.863934</td>\n",
       "      <td>1</td>\n",
       "    </tr>\n",
       "    <tr>\n",
       "      <th>3</th>\n",
       "      <td>3</td>\n",
       "      <td>UKOG.L</td>\n",
       "      <td>UK Oil &amp; Gas Investments PLC</td>\n",
       "      <td>0.0436</td>\n",
       "      <td>-0.0024</td>\n",
       "      <td>-5.22</td>\n",
       "      <td>290.487</td>\n",
       "      <td>85.753</td>\n",
       "      <td>9.785</td>\n",
       "      <td>3.387485</td>\n",
       "      <td>1</td>\n",
       "    </tr>\n",
       "    <tr>\n",
       "      <th>4</th>\n",
       "      <td>4</td>\n",
       "      <td>BBSN.L</td>\n",
       "      <td>Brave Bison Group plc</td>\n",
       "      <td>2.3750</td>\n",
       "      <td>0.0000</td>\n",
       "      <td>0.00</td>\n",
       "      <td>193.223</td>\n",
       "      <td>1.347</td>\n",
       "      <td>30.574</td>\n",
       "      <td>143.446919</td>\n",
       "      <td>4</td>\n",
       "    </tr>\n",
       "    <tr>\n",
       "      <th>5</th>\n",
       "      <td>5</td>\n",
       "      <td>VELA.L</td>\n",
       "      <td>Vela Technologies PLC</td>\n",
       "      <td>0.0199</td>\n",
       "      <td>0.0014</td>\n",
       "      <td>7.57</td>\n",
       "      <td>112.266</td>\n",
       "      <td>61.935</td>\n",
       "      <td>3.414</td>\n",
       "      <td>1.812642</td>\n",
       "      <td>2</td>\n",
       "    </tr>\n",
       "    <tr>\n",
       "      <th>6</th>\n",
       "      <td>6</td>\n",
       "      <td>MSMN.L</td>\n",
       "      <td>Mosman Oil And Gas Limited</td>\n",
       "      <td>0.0249</td>\n",
       "      <td>0.0014</td>\n",
       "      <td>5.96</td>\n",
       "      <td>96.671</td>\n",
       "      <td>51.275</td>\n",
       "      <td>2.233</td>\n",
       "      <td>1.885344</td>\n",
       "      <td>2</td>\n",
       "    </tr>\n",
       "    <tr>\n",
       "      <th>7</th>\n",
       "      <td>8</td>\n",
       "      <td>PREM.L</td>\n",
       "      <td>Premier African Minerals Limited</td>\n",
       "      <td>0.4005</td>\n",
       "      <td>-0.0295</td>\n",
       "      <td>-6.86</td>\n",
       "      <td>80.047</td>\n",
       "      <td>321.665</td>\n",
       "      <td>110.307</td>\n",
       "      <td>0.248852</td>\n",
       "      <td>3</td>\n",
       "    </tr>\n",
       "    <tr>\n",
       "      <th>8</th>\n",
       "      <td>11</td>\n",
       "      <td>BOIL.L</td>\n",
       "      <td>Baron Oil Plc</td>\n",
       "      <td>0.0914</td>\n",
       "      <td>-0.0036</td>\n",
       "      <td>-3.79</td>\n",
       "      <td>62.914</td>\n",
       "      <td>165.801</td>\n",
       "      <td>19.177</td>\n",
       "      <td>0.379455</td>\n",
       "      <td>2</td>\n",
       "    </tr>\n",
       "    <tr>\n",
       "      <th>9</th>\n",
       "      <td>12</td>\n",
       "      <td>RRR.L</td>\n",
       "      <td>Red Rock Resources plc</td>\n",
       "      <td>0.1501</td>\n",
       "      <td>-0.0049</td>\n",
       "      <td>-3.16</td>\n",
       "      <td>52.597</td>\n",
       "      <td>107.794</td>\n",
       "      <td>4.084</td>\n",
       "      <td>0.487940</td>\n",
       "      <td>2</td>\n",
       "    </tr>\n",
       "    <tr>\n",
       "      <th>10</th>\n",
       "      <td>13</td>\n",
       "      <td>SYME.L</td>\n",
       "      <td>Supply@ME Capital plc</td>\n",
       "      <td>0.1208</td>\n",
       "      <td>0.0008</td>\n",
       "      <td>0.67</td>\n",
       "      <td>49.046</td>\n",
       "      <td>248.180</td>\n",
       "      <td>77.778</td>\n",
       "      <td>0.197623</td>\n",
       "      <td>2</td>\n",
       "    </tr>\n",
       "    <tr>\n",
       "      <th>11</th>\n",
       "      <td>15</td>\n",
       "      <td>TRP.L</td>\n",
       "      <td>Tower Resources plc</td>\n",
       "      <td>0.0377</td>\n",
       "      <td>0.0007</td>\n",
       "      <td>1.89</td>\n",
       "      <td>39.412</td>\n",
       "      <td>161.840</td>\n",
       "      <td>3.183</td>\n",
       "      <td>0.243524</td>\n",
       "      <td>2</td>\n",
       "    </tr>\n",
       "    <tr>\n",
       "      <th>12</th>\n",
       "      <td>17</td>\n",
       "      <td>LOGP.L</td>\n",
       "      <td>Lansdowne Oil &amp; Gas plc</td>\n",
       "      <td>0.0950</td>\n",
       "      <td>-0.0050</td>\n",
       "      <td>-5.00</td>\n",
       "      <td>36.000</td>\n",
       "      <td>5.284</td>\n",
       "      <td>1.101</td>\n",
       "      <td>6.813020</td>\n",
       "      <td>2</td>\n",
       "    </tr>\n",
       "    <tr>\n",
       "      <th>13</th>\n",
       "      <td>20</td>\n",
       "      <td>UFO.L</td>\n",
       "      <td>Alien Metals Ltd</td>\n",
       "      <td>0.1699</td>\n",
       "      <td>-0.0121</td>\n",
       "      <td>-6.65</td>\n",
       "      <td>34.568</td>\n",
       "      <td>24.870</td>\n",
       "      <td>16.842</td>\n",
       "      <td>1.389948</td>\n",
       "      <td>2</td>\n",
       "    </tr>\n",
       "    <tr>\n",
       "      <th>14</th>\n",
       "      <td>24</td>\n",
       "      <td>SCIR.L</td>\n",
       "      <td>Scirocco Energy Plc</td>\n",
       "      <td>0.5500</td>\n",
       "      <td>0.0000</td>\n",
       "      <td>0.00</td>\n",
       "      <td>25.650</td>\n",
       "      <td>1.381</td>\n",
       "      <td>4.953</td>\n",
       "      <td>18.573497</td>\n",
       "      <td>2</td>\n",
       "    </tr>\n",
       "  </tbody>\n",
       "</table>\n",
       "</div>"
      ],
      "text/plain": [
       "    index  Symbol                              Name  Price(intraday) $  \\\n",
       "0       0  KIBO.L                   Kibo Mining Plc             0.0575   \n",
       "1       1   BCE.L                 Beacon Energy plc             0.1911   \n",
       "2       2  ICON.L                   Iconic Labs Plc             0.0030   \n",
       "3       3  UKOG.L      UK Oil & Gas Investments PLC             0.0436   \n",
       "4       4  BBSN.L             Brave Bison Group plc             2.3750   \n",
       "5       5  VELA.L             Vela Technologies PLC             0.0199   \n",
       "6       6  MSMN.L        Mosman Oil And Gas Limited             0.0249   \n",
       "7       8  PREM.L  Premier African Minerals Limited             0.4005   \n",
       "8      11  BOIL.L                     Baron Oil Plc             0.0914   \n",
       "9      12   RRR.L            Red Rock Resources plc             0.1501   \n",
       "10     13  SYME.L             Supply@ME Capital plc             0.1208   \n",
       "11     15   TRP.L               Tower Resources plc             0.0377   \n",
       "12     17  LOGP.L           Lansdowne Oil & Gas plc             0.0950   \n",
       "13     20   UFO.L                  Alien Metals Ltd             0.1699   \n",
       "14     24  SCIR.L               Scirocco Energy Plc             0.5500   \n",
       "\n",
       "    Change  % change  Volume(M)  Avg vol (3-month) (M)  Market cap (M)  \\\n",
       "0  -0.0050     -8.00    450.000                 15.398           2.173   \n",
       "1  -0.0164     -7.90    323.652                110.186          20.081   \n",
       "2  -0.0003     -7.69    356.554                412.710           2.315   \n",
       "3  -0.0024     -5.22    290.487                 85.753           9.785   \n",
       "4   0.0000      0.00    193.223                  1.347          30.574   \n",
       "5   0.0014      7.57    112.266                 61.935           3.414   \n",
       "6   0.0014      5.96     96.671                 51.275           2.233   \n",
       "7  -0.0295     -6.86     80.047                321.665         110.307   \n",
       "8  -0.0036     -3.79     62.914                165.801          19.177   \n",
       "9  -0.0049     -3.16     52.597                107.794           4.084   \n",
       "10  0.0008      0.67     49.046                248.180          77.778   \n",
       "11  0.0007      1.89     39.412                161.840           3.183   \n",
       "12 -0.0050     -5.00     36.000                  5.284           1.101   \n",
       "13 -0.0121     -6.65     34.568                 24.870          16.842   \n",
       "14  0.0000      0.00     25.650                  1.381           4.953   \n",
       "\n",
       "    Volume_ratio  Cluster  \n",
       "0      29.224575        1  \n",
       "1       2.937324        1  \n",
       "2       0.863934        1  \n",
       "3       3.387485        1  \n",
       "4     143.446919        4  \n",
       "5       1.812642        2  \n",
       "6       1.885344        2  \n",
       "7       0.248852        3  \n",
       "8       0.379455        2  \n",
       "9       0.487940        2  \n",
       "10      0.197623        2  \n",
       "11      0.243524        2  \n",
       "12      6.813020        2  \n",
       "13      1.389948        2  \n",
       "14     18.573497        2  "
      ]
     },
     "execution_count": 48,
     "metadata": {},
     "output_type": "execute_result"
    }
   ],
   "source": [
    "stocks"
   ]
  },
  {
   "cell_type": "markdown",
   "id": "2fe2d0a2",
   "metadata": {},
   "source": [
    "### Clustering Evaluation\n",
    "\n",
    "It will be hard to strictly assume that each group will have a set characteristics due to the nature of the data, however we can create visuals to help understand each cluster regardless of the number of clusters formed"
   ]
  },
  {
   "cell_type": "code",
   "execution_count": 86,
   "id": "800d38f5",
   "metadata": {
    "scrolled": false
   },
   "outputs": [
    {
     "data": {
      "application/vnd.plotly.v1+json": {
       "config": {
        "plotlyServerURL": "https://plot.ly"
       },
       "data": [
        {
         "hovertemplate": "Name=Kibo Mining Plc<br>Cluster=%{x}<br>index=%{y}<extra></extra>",
         "legendgroup": "Kibo Mining Plc",
         "marker": {
          "color": "#636efa",
          "symbol": "circle"
         },
         "mode": "markers",
         "name": "Kibo Mining Plc",
         "orientation": "v",
         "showlegend": true,
         "type": "scatter",
         "x": [
          1
         ],
         "xaxis": "x",
         "y": [
          0
         ],
         "yaxis": "y"
        },
        {
         "hovertemplate": "Name=Beacon Energy plc<br>Cluster=%{x}<br>index=%{y}<extra></extra>",
         "legendgroup": "Beacon Energy plc",
         "marker": {
          "color": "#EF553B",
          "symbol": "circle"
         },
         "mode": "markers",
         "name": "Beacon Energy plc",
         "orientation": "v",
         "showlegend": true,
         "type": "scatter",
         "x": [
          1
         ],
         "xaxis": "x",
         "y": [
          1
         ],
         "yaxis": "y"
        },
        {
         "hovertemplate": "Name=Iconic Labs Plc<br>Cluster=%{x}<br>index=%{y}<extra></extra>",
         "legendgroup": "Iconic Labs Plc",
         "marker": {
          "color": "#00cc96",
          "symbol": "circle"
         },
         "mode": "markers",
         "name": "Iconic Labs Plc",
         "orientation": "v",
         "showlegend": true,
         "type": "scatter",
         "x": [
          1
         ],
         "xaxis": "x",
         "y": [
          2
         ],
         "yaxis": "y"
        },
        {
         "hovertemplate": "Name=UK Oil & Gas Investments PLC<br>Cluster=%{x}<br>index=%{y}<extra></extra>",
         "legendgroup": "UK Oil & Gas Investments PLC",
         "marker": {
          "color": "#ab63fa",
          "symbol": "circle"
         },
         "mode": "markers",
         "name": "UK Oil & Gas Investments PLC",
         "orientation": "v",
         "showlegend": true,
         "type": "scatter",
         "x": [
          1
         ],
         "xaxis": "x",
         "y": [
          3
         ],
         "yaxis": "y"
        },
        {
         "hovertemplate": "Name=Brave Bison Group plc<br>Cluster=%{x}<br>index=%{y}<extra></extra>",
         "legendgroup": "Brave Bison Group plc",
         "marker": {
          "color": "#FFA15A",
          "symbol": "circle"
         },
         "mode": "markers",
         "name": "Brave Bison Group plc",
         "orientation": "v",
         "showlegend": true,
         "type": "scatter",
         "x": [
          4
         ],
         "xaxis": "x",
         "y": [
          4
         ],
         "yaxis": "y"
        },
        {
         "hovertemplate": "Name=Vela Technologies PLC<br>Cluster=%{x}<br>index=%{y}<extra></extra>",
         "legendgroup": "Vela Technologies PLC",
         "marker": {
          "color": "#19d3f3",
          "symbol": "circle"
         },
         "mode": "markers",
         "name": "Vela Technologies PLC",
         "orientation": "v",
         "showlegend": true,
         "type": "scatter",
         "x": [
          2
         ],
         "xaxis": "x",
         "y": [
          5
         ],
         "yaxis": "y"
        },
        {
         "hovertemplate": "Name=Mosman Oil And Gas Limited<br>Cluster=%{x}<br>index=%{y}<extra></extra>",
         "legendgroup": "Mosman Oil And Gas Limited",
         "marker": {
          "color": "#FF6692",
          "symbol": "circle"
         },
         "mode": "markers",
         "name": "Mosman Oil And Gas Limited",
         "orientation": "v",
         "showlegend": true,
         "type": "scatter",
         "x": [
          2
         ],
         "xaxis": "x",
         "y": [
          6
         ],
         "yaxis": "y"
        },
        {
         "hovertemplate": "Name=Premier African Minerals Limited<br>Cluster=%{x}<br>index=%{y}<extra></extra>",
         "legendgroup": "Premier African Minerals Limited",
         "marker": {
          "color": "#B6E880",
          "symbol": "circle"
         },
         "mode": "markers",
         "name": "Premier African Minerals Limited",
         "orientation": "v",
         "showlegend": true,
         "type": "scatter",
         "x": [
          3
         ],
         "xaxis": "x",
         "y": [
          8
         ],
         "yaxis": "y"
        },
        {
         "hovertemplate": "Name=Baron Oil Plc<br>Cluster=%{x}<br>index=%{y}<extra></extra>",
         "legendgroup": "Baron Oil Plc",
         "marker": {
          "color": "#FF97FF",
          "symbol": "circle"
         },
         "mode": "markers",
         "name": "Baron Oil Plc",
         "orientation": "v",
         "showlegend": true,
         "type": "scatter",
         "x": [
          2
         ],
         "xaxis": "x",
         "y": [
          11
         ],
         "yaxis": "y"
        },
        {
         "hovertemplate": "Name=Red Rock Resources plc<br>Cluster=%{x}<br>index=%{y}<extra></extra>",
         "legendgroup": "Red Rock Resources plc",
         "marker": {
          "color": "#FECB52",
          "symbol": "circle"
         },
         "mode": "markers",
         "name": "Red Rock Resources plc",
         "orientation": "v",
         "showlegend": true,
         "type": "scatter",
         "x": [
          2
         ],
         "xaxis": "x",
         "y": [
          12
         ],
         "yaxis": "y"
        },
        {
         "hovertemplate": "Name=Supply@ME Capital plc<br>Cluster=%{x}<br>index=%{y}<extra></extra>",
         "legendgroup": "Supply@ME Capital plc",
         "marker": {
          "color": "#636efa",
          "symbol": "circle"
         },
         "mode": "markers",
         "name": "Supply@ME Capital plc",
         "orientation": "v",
         "showlegend": true,
         "type": "scatter",
         "x": [
          2
         ],
         "xaxis": "x",
         "y": [
          13
         ],
         "yaxis": "y"
        },
        {
         "hovertemplate": "Name=Tower Resources plc<br>Cluster=%{x}<br>index=%{y}<extra></extra>",
         "legendgroup": "Tower Resources plc",
         "marker": {
          "color": "#EF553B",
          "symbol": "circle"
         },
         "mode": "markers",
         "name": "Tower Resources plc",
         "orientation": "v",
         "showlegend": true,
         "type": "scatter",
         "x": [
          2
         ],
         "xaxis": "x",
         "y": [
          15
         ],
         "yaxis": "y"
        },
        {
         "hovertemplate": "Name=Lansdowne Oil & Gas plc<br>Cluster=%{x}<br>index=%{y}<extra></extra>",
         "legendgroup": "Lansdowne Oil & Gas plc",
         "marker": {
          "color": "#00cc96",
          "symbol": "circle"
         },
         "mode": "markers",
         "name": "Lansdowne Oil & Gas plc",
         "orientation": "v",
         "showlegend": true,
         "type": "scatter",
         "x": [
          2
         ],
         "xaxis": "x",
         "y": [
          17
         ],
         "yaxis": "y"
        },
        {
         "hovertemplate": "Name=Alien Metals Ltd<br>Cluster=%{x}<br>index=%{y}<extra></extra>",
         "legendgroup": "Alien Metals Ltd",
         "marker": {
          "color": "#ab63fa",
          "symbol": "circle"
         },
         "mode": "markers",
         "name": "Alien Metals Ltd",
         "orientation": "v",
         "showlegend": true,
         "type": "scatter",
         "x": [
          2
         ],
         "xaxis": "x",
         "y": [
          20
         ],
         "yaxis": "y"
        },
        {
         "hovertemplate": "Name=Scirocco Energy Plc<br>Cluster=%{x}<br>index=%{y}<extra></extra>",
         "legendgroup": "Scirocco Energy Plc",
         "marker": {
          "color": "#FFA15A",
          "symbol": "circle"
         },
         "mode": "markers",
         "name": "Scirocco Energy Plc",
         "orientation": "v",
         "showlegend": true,
         "type": "scatter",
         "x": [
          2
         ],
         "xaxis": "x",
         "y": [
          24
         ],
         "yaxis": "y"
        }
       ],
       "layout": {
        "legend": {
         "title": {
          "text": "Name"
         },
         "tracegroupgap": 0
        },
        "template": {
         "data": {
          "bar": [
           {
            "error_x": {
             "color": "#2a3f5f"
            },
            "error_y": {
             "color": "#2a3f5f"
            },
            "marker": {
             "line": {
              "color": "#E5ECF6",
              "width": 0.5
             },
             "pattern": {
              "fillmode": "overlay",
              "size": 10,
              "solidity": 0.2
             }
            },
            "type": "bar"
           }
          ],
          "barpolar": [
           {
            "marker": {
             "line": {
              "color": "#E5ECF6",
              "width": 0.5
             },
             "pattern": {
              "fillmode": "overlay",
              "size": 10,
              "solidity": 0.2
             }
            },
            "type": "barpolar"
           }
          ],
          "carpet": [
           {
            "aaxis": {
             "endlinecolor": "#2a3f5f",
             "gridcolor": "white",
             "linecolor": "white",
             "minorgridcolor": "white",
             "startlinecolor": "#2a3f5f"
            },
            "baxis": {
             "endlinecolor": "#2a3f5f",
             "gridcolor": "white",
             "linecolor": "white",
             "minorgridcolor": "white",
             "startlinecolor": "#2a3f5f"
            },
            "type": "carpet"
           }
          ],
          "choropleth": [
           {
            "colorbar": {
             "outlinewidth": 0,
             "ticks": ""
            },
            "type": "choropleth"
           }
          ],
          "contour": [
           {
            "colorbar": {
             "outlinewidth": 0,
             "ticks": ""
            },
            "colorscale": [
             [
              0,
              "#0d0887"
             ],
             [
              0.1111111111111111,
              "#46039f"
             ],
             [
              0.2222222222222222,
              "#7201a8"
             ],
             [
              0.3333333333333333,
              "#9c179e"
             ],
             [
              0.4444444444444444,
              "#bd3786"
             ],
             [
              0.5555555555555556,
              "#d8576b"
             ],
             [
              0.6666666666666666,
              "#ed7953"
             ],
             [
              0.7777777777777778,
              "#fb9f3a"
             ],
             [
              0.8888888888888888,
              "#fdca26"
             ],
             [
              1,
              "#f0f921"
             ]
            ],
            "type": "contour"
           }
          ],
          "contourcarpet": [
           {
            "colorbar": {
             "outlinewidth": 0,
             "ticks": ""
            },
            "type": "contourcarpet"
           }
          ],
          "heatmap": [
           {
            "colorbar": {
             "outlinewidth": 0,
             "ticks": ""
            },
            "colorscale": [
             [
              0,
              "#0d0887"
             ],
             [
              0.1111111111111111,
              "#46039f"
             ],
             [
              0.2222222222222222,
              "#7201a8"
             ],
             [
              0.3333333333333333,
              "#9c179e"
             ],
             [
              0.4444444444444444,
              "#bd3786"
             ],
             [
              0.5555555555555556,
              "#d8576b"
             ],
             [
              0.6666666666666666,
              "#ed7953"
             ],
             [
              0.7777777777777778,
              "#fb9f3a"
             ],
             [
              0.8888888888888888,
              "#fdca26"
             ],
             [
              1,
              "#f0f921"
             ]
            ],
            "type": "heatmap"
           }
          ],
          "heatmapgl": [
           {
            "colorbar": {
             "outlinewidth": 0,
             "ticks": ""
            },
            "colorscale": [
             [
              0,
              "#0d0887"
             ],
             [
              0.1111111111111111,
              "#46039f"
             ],
             [
              0.2222222222222222,
              "#7201a8"
             ],
             [
              0.3333333333333333,
              "#9c179e"
             ],
             [
              0.4444444444444444,
              "#bd3786"
             ],
             [
              0.5555555555555556,
              "#d8576b"
             ],
             [
              0.6666666666666666,
              "#ed7953"
             ],
             [
              0.7777777777777778,
              "#fb9f3a"
             ],
             [
              0.8888888888888888,
              "#fdca26"
             ],
             [
              1,
              "#f0f921"
             ]
            ],
            "type": "heatmapgl"
           }
          ],
          "histogram": [
           {
            "marker": {
             "pattern": {
              "fillmode": "overlay",
              "size": 10,
              "solidity": 0.2
             }
            },
            "type": "histogram"
           }
          ],
          "histogram2d": [
           {
            "colorbar": {
             "outlinewidth": 0,
             "ticks": ""
            },
            "colorscale": [
             [
              0,
              "#0d0887"
             ],
             [
              0.1111111111111111,
              "#46039f"
             ],
             [
              0.2222222222222222,
              "#7201a8"
             ],
             [
              0.3333333333333333,
              "#9c179e"
             ],
             [
              0.4444444444444444,
              "#bd3786"
             ],
             [
              0.5555555555555556,
              "#d8576b"
             ],
             [
              0.6666666666666666,
              "#ed7953"
             ],
             [
              0.7777777777777778,
              "#fb9f3a"
             ],
             [
              0.8888888888888888,
              "#fdca26"
             ],
             [
              1,
              "#f0f921"
             ]
            ],
            "type": "histogram2d"
           }
          ],
          "histogram2dcontour": [
           {
            "colorbar": {
             "outlinewidth": 0,
             "ticks": ""
            },
            "colorscale": [
             [
              0,
              "#0d0887"
             ],
             [
              0.1111111111111111,
              "#46039f"
             ],
             [
              0.2222222222222222,
              "#7201a8"
             ],
             [
              0.3333333333333333,
              "#9c179e"
             ],
             [
              0.4444444444444444,
              "#bd3786"
             ],
             [
              0.5555555555555556,
              "#d8576b"
             ],
             [
              0.6666666666666666,
              "#ed7953"
             ],
             [
              0.7777777777777778,
              "#fb9f3a"
             ],
             [
              0.8888888888888888,
              "#fdca26"
             ],
             [
              1,
              "#f0f921"
             ]
            ],
            "type": "histogram2dcontour"
           }
          ],
          "mesh3d": [
           {
            "colorbar": {
             "outlinewidth": 0,
             "ticks": ""
            },
            "type": "mesh3d"
           }
          ],
          "parcoords": [
           {
            "line": {
             "colorbar": {
              "outlinewidth": 0,
              "ticks": ""
             }
            },
            "type": "parcoords"
           }
          ],
          "pie": [
           {
            "automargin": true,
            "type": "pie"
           }
          ],
          "scatter": [
           {
            "fillpattern": {
             "fillmode": "overlay",
             "size": 10,
             "solidity": 0.2
            },
            "type": "scatter"
           }
          ],
          "scatter3d": [
           {
            "line": {
             "colorbar": {
              "outlinewidth": 0,
              "ticks": ""
             }
            },
            "marker": {
             "colorbar": {
              "outlinewidth": 0,
              "ticks": ""
             }
            },
            "type": "scatter3d"
           }
          ],
          "scattercarpet": [
           {
            "marker": {
             "colorbar": {
              "outlinewidth": 0,
              "ticks": ""
             }
            },
            "type": "scattercarpet"
           }
          ],
          "scattergeo": [
           {
            "marker": {
             "colorbar": {
              "outlinewidth": 0,
              "ticks": ""
             }
            },
            "type": "scattergeo"
           }
          ],
          "scattergl": [
           {
            "marker": {
             "colorbar": {
              "outlinewidth": 0,
              "ticks": ""
             }
            },
            "type": "scattergl"
           }
          ],
          "scattermapbox": [
           {
            "marker": {
             "colorbar": {
              "outlinewidth": 0,
              "ticks": ""
             }
            },
            "type": "scattermapbox"
           }
          ],
          "scatterpolar": [
           {
            "marker": {
             "colorbar": {
              "outlinewidth": 0,
              "ticks": ""
             }
            },
            "type": "scatterpolar"
           }
          ],
          "scatterpolargl": [
           {
            "marker": {
             "colorbar": {
              "outlinewidth": 0,
              "ticks": ""
             }
            },
            "type": "scatterpolargl"
           }
          ],
          "scatterternary": [
           {
            "marker": {
             "colorbar": {
              "outlinewidth": 0,
              "ticks": ""
             }
            },
            "type": "scatterternary"
           }
          ],
          "surface": [
           {
            "colorbar": {
             "outlinewidth": 0,
             "ticks": ""
            },
            "colorscale": [
             [
              0,
              "#0d0887"
             ],
             [
              0.1111111111111111,
              "#46039f"
             ],
             [
              0.2222222222222222,
              "#7201a8"
             ],
             [
              0.3333333333333333,
              "#9c179e"
             ],
             [
              0.4444444444444444,
              "#bd3786"
             ],
             [
              0.5555555555555556,
              "#d8576b"
             ],
             [
              0.6666666666666666,
              "#ed7953"
             ],
             [
              0.7777777777777778,
              "#fb9f3a"
             ],
             [
              0.8888888888888888,
              "#fdca26"
             ],
             [
              1,
              "#f0f921"
             ]
            ],
            "type": "surface"
           }
          ],
          "table": [
           {
            "cells": {
             "fill": {
              "color": "#EBF0F8"
             },
             "line": {
              "color": "white"
             }
            },
            "header": {
             "fill": {
              "color": "#C8D4E3"
             },
             "line": {
              "color": "white"
             }
            },
            "type": "table"
           }
          ]
         },
         "layout": {
          "annotationdefaults": {
           "arrowcolor": "#2a3f5f",
           "arrowhead": 0,
           "arrowwidth": 1
          },
          "autotypenumbers": "strict",
          "coloraxis": {
           "colorbar": {
            "outlinewidth": 0,
            "ticks": ""
           }
          },
          "colorscale": {
           "diverging": [
            [
             0,
             "#8e0152"
            ],
            [
             0.1,
             "#c51b7d"
            ],
            [
             0.2,
             "#de77ae"
            ],
            [
             0.3,
             "#f1b6da"
            ],
            [
             0.4,
             "#fde0ef"
            ],
            [
             0.5,
             "#f7f7f7"
            ],
            [
             0.6,
             "#e6f5d0"
            ],
            [
             0.7,
             "#b8e186"
            ],
            [
             0.8,
             "#7fbc41"
            ],
            [
             0.9,
             "#4d9221"
            ],
            [
             1,
             "#276419"
            ]
           ],
           "sequential": [
            [
             0,
             "#0d0887"
            ],
            [
             0.1111111111111111,
             "#46039f"
            ],
            [
             0.2222222222222222,
             "#7201a8"
            ],
            [
             0.3333333333333333,
             "#9c179e"
            ],
            [
             0.4444444444444444,
             "#bd3786"
            ],
            [
             0.5555555555555556,
             "#d8576b"
            ],
            [
             0.6666666666666666,
             "#ed7953"
            ],
            [
             0.7777777777777778,
             "#fb9f3a"
            ],
            [
             0.8888888888888888,
             "#fdca26"
            ],
            [
             1,
             "#f0f921"
            ]
           ],
           "sequentialminus": [
            [
             0,
             "#0d0887"
            ],
            [
             0.1111111111111111,
             "#46039f"
            ],
            [
             0.2222222222222222,
             "#7201a8"
            ],
            [
             0.3333333333333333,
             "#9c179e"
            ],
            [
             0.4444444444444444,
             "#bd3786"
            ],
            [
             0.5555555555555556,
             "#d8576b"
            ],
            [
             0.6666666666666666,
             "#ed7953"
            ],
            [
             0.7777777777777778,
             "#fb9f3a"
            ],
            [
             0.8888888888888888,
             "#fdca26"
            ],
            [
             1,
             "#f0f921"
            ]
           ]
          },
          "colorway": [
           "#636efa",
           "#EF553B",
           "#00cc96",
           "#ab63fa",
           "#FFA15A",
           "#19d3f3",
           "#FF6692",
           "#B6E880",
           "#FF97FF",
           "#FECB52"
          ],
          "font": {
           "color": "#2a3f5f"
          },
          "geo": {
           "bgcolor": "white",
           "lakecolor": "white",
           "landcolor": "#E5ECF6",
           "showlakes": true,
           "showland": true,
           "subunitcolor": "white"
          },
          "hoverlabel": {
           "align": "left"
          },
          "hovermode": "closest",
          "mapbox": {
           "style": "light"
          },
          "paper_bgcolor": "white",
          "plot_bgcolor": "#E5ECF6",
          "polar": {
           "angularaxis": {
            "gridcolor": "white",
            "linecolor": "white",
            "ticks": ""
           },
           "bgcolor": "#E5ECF6",
           "radialaxis": {
            "gridcolor": "white",
            "linecolor": "white",
            "ticks": ""
           }
          },
          "scene": {
           "xaxis": {
            "backgroundcolor": "#E5ECF6",
            "gridcolor": "white",
            "gridwidth": 2,
            "linecolor": "white",
            "showbackground": true,
            "ticks": "",
            "zerolinecolor": "white"
           },
           "yaxis": {
            "backgroundcolor": "#E5ECF6",
            "gridcolor": "white",
            "gridwidth": 2,
            "linecolor": "white",
            "showbackground": true,
            "ticks": "",
            "zerolinecolor": "white"
           },
           "zaxis": {
            "backgroundcolor": "#E5ECF6",
            "gridcolor": "white",
            "gridwidth": 2,
            "linecolor": "white",
            "showbackground": true,
            "ticks": "",
            "zerolinecolor": "white"
           }
          },
          "shapedefaults": {
           "line": {
            "color": "#2a3f5f"
           }
          },
          "ternary": {
           "aaxis": {
            "gridcolor": "white",
            "linecolor": "white",
            "ticks": ""
           },
           "baxis": {
            "gridcolor": "white",
            "linecolor": "white",
            "ticks": ""
           },
           "bgcolor": "#E5ECF6",
           "caxis": {
            "gridcolor": "white",
            "linecolor": "white",
            "ticks": ""
           }
          },
          "title": {
           "x": 0.05
          },
          "xaxis": {
           "automargin": true,
           "gridcolor": "white",
           "linecolor": "white",
           "ticks": "",
           "title": {
            "standoff": 15
           },
           "zerolinecolor": "white",
           "zerolinewidth": 2
          },
          "yaxis": {
           "automargin": true,
           "gridcolor": "white",
           "linecolor": "white",
           "ticks": "",
           "title": {
            "standoff": 15
           },
           "zerolinecolor": "white",
           "zerolinewidth": 2
          }
         }
        },
        "title": {
         "text": "Clusters"
        },
        "xaxis": {
         "anchor": "y",
         "domain": [
          0,
          1
         ],
         "title": {
          "text": "Cluster"
         }
        },
        "yaxis": {
         "anchor": "x",
         "domain": [
          0,
          1
         ],
         "title": {
          "text": "index"
         }
        }
       }
      },
      "text/html": [
       "<div>                            <div id=\"c3a1958e-2f59-49c7-bcec-496ffd31ee43\" class=\"plotly-graph-div\" style=\"height:525px; width:100%;\"></div>            <script type=\"text/javascript\">                require([\"plotly\"], function(Plotly) {                    window.PLOTLYENV=window.PLOTLYENV || {};                                    if (document.getElementById(\"c3a1958e-2f59-49c7-bcec-496ffd31ee43\")) {                    Plotly.newPlot(                        \"c3a1958e-2f59-49c7-bcec-496ffd31ee43\",                        [{\"hovertemplate\":\"Name=Kibo Mining Plc<br>Cluster=%{x}<br>index=%{y}<extra></extra>\",\"legendgroup\":\"Kibo Mining Plc\",\"marker\":{\"color\":\"#636efa\",\"symbol\":\"circle\"},\"mode\":\"markers\",\"name\":\"Kibo Mining Plc\",\"orientation\":\"v\",\"showlegend\":true,\"x\":[1],\"xaxis\":\"x\",\"y\":[0],\"yaxis\":\"y\",\"type\":\"scatter\"},{\"hovertemplate\":\"Name=Beacon Energy plc<br>Cluster=%{x}<br>index=%{y}<extra></extra>\",\"legendgroup\":\"Beacon Energy plc\",\"marker\":{\"color\":\"#EF553B\",\"symbol\":\"circle\"},\"mode\":\"markers\",\"name\":\"Beacon Energy plc\",\"orientation\":\"v\",\"showlegend\":true,\"x\":[1],\"xaxis\":\"x\",\"y\":[1],\"yaxis\":\"y\",\"type\":\"scatter\"},{\"hovertemplate\":\"Name=Iconic Labs Plc<br>Cluster=%{x}<br>index=%{y}<extra></extra>\",\"legendgroup\":\"Iconic Labs Plc\",\"marker\":{\"color\":\"#00cc96\",\"symbol\":\"circle\"},\"mode\":\"markers\",\"name\":\"Iconic Labs Plc\",\"orientation\":\"v\",\"showlegend\":true,\"x\":[1],\"xaxis\":\"x\",\"y\":[2],\"yaxis\":\"y\",\"type\":\"scatter\"},{\"hovertemplate\":\"Name=UK Oil & Gas Investments PLC<br>Cluster=%{x}<br>index=%{y}<extra></extra>\",\"legendgroup\":\"UK Oil & Gas Investments PLC\",\"marker\":{\"color\":\"#ab63fa\",\"symbol\":\"circle\"},\"mode\":\"markers\",\"name\":\"UK Oil & Gas Investments PLC\",\"orientation\":\"v\",\"showlegend\":true,\"x\":[1],\"xaxis\":\"x\",\"y\":[3],\"yaxis\":\"y\",\"type\":\"scatter\"},{\"hovertemplate\":\"Name=Brave Bison Group plc<br>Cluster=%{x}<br>index=%{y}<extra></extra>\",\"legendgroup\":\"Brave Bison Group plc\",\"marker\":{\"color\":\"#FFA15A\",\"symbol\":\"circle\"},\"mode\":\"markers\",\"name\":\"Brave Bison Group plc\",\"orientation\":\"v\",\"showlegend\":true,\"x\":[4],\"xaxis\":\"x\",\"y\":[4],\"yaxis\":\"y\",\"type\":\"scatter\"},{\"hovertemplate\":\"Name=Vela Technologies PLC<br>Cluster=%{x}<br>index=%{y}<extra></extra>\",\"legendgroup\":\"Vela Technologies PLC\",\"marker\":{\"color\":\"#19d3f3\",\"symbol\":\"circle\"},\"mode\":\"markers\",\"name\":\"Vela Technologies PLC\",\"orientation\":\"v\",\"showlegend\":true,\"x\":[2],\"xaxis\":\"x\",\"y\":[5],\"yaxis\":\"y\",\"type\":\"scatter\"},{\"hovertemplate\":\"Name=Mosman Oil And Gas Limited<br>Cluster=%{x}<br>index=%{y}<extra></extra>\",\"legendgroup\":\"Mosman Oil And Gas Limited\",\"marker\":{\"color\":\"#FF6692\",\"symbol\":\"circle\"},\"mode\":\"markers\",\"name\":\"Mosman Oil And Gas Limited\",\"orientation\":\"v\",\"showlegend\":true,\"x\":[2],\"xaxis\":\"x\",\"y\":[6],\"yaxis\":\"y\",\"type\":\"scatter\"},{\"hovertemplate\":\"Name=Premier African Minerals Limited<br>Cluster=%{x}<br>index=%{y}<extra></extra>\",\"legendgroup\":\"Premier African Minerals Limited\",\"marker\":{\"color\":\"#B6E880\",\"symbol\":\"circle\"},\"mode\":\"markers\",\"name\":\"Premier African Minerals Limited\",\"orientation\":\"v\",\"showlegend\":true,\"x\":[3],\"xaxis\":\"x\",\"y\":[8],\"yaxis\":\"y\",\"type\":\"scatter\"},{\"hovertemplate\":\"Name=Baron Oil Plc<br>Cluster=%{x}<br>index=%{y}<extra></extra>\",\"legendgroup\":\"Baron Oil Plc\",\"marker\":{\"color\":\"#FF97FF\",\"symbol\":\"circle\"},\"mode\":\"markers\",\"name\":\"Baron Oil Plc\",\"orientation\":\"v\",\"showlegend\":true,\"x\":[2],\"xaxis\":\"x\",\"y\":[11],\"yaxis\":\"y\",\"type\":\"scatter\"},{\"hovertemplate\":\"Name=Red Rock Resources plc<br>Cluster=%{x}<br>index=%{y}<extra></extra>\",\"legendgroup\":\"Red Rock Resources plc\",\"marker\":{\"color\":\"#FECB52\",\"symbol\":\"circle\"},\"mode\":\"markers\",\"name\":\"Red Rock Resources plc\",\"orientation\":\"v\",\"showlegend\":true,\"x\":[2],\"xaxis\":\"x\",\"y\":[12],\"yaxis\":\"y\",\"type\":\"scatter\"},{\"hovertemplate\":\"Name=Supply@ME Capital plc<br>Cluster=%{x}<br>index=%{y}<extra></extra>\",\"legendgroup\":\"Supply@ME Capital plc\",\"marker\":{\"color\":\"#636efa\",\"symbol\":\"circle\"},\"mode\":\"markers\",\"name\":\"Supply@ME Capital plc\",\"orientation\":\"v\",\"showlegend\":true,\"x\":[2],\"xaxis\":\"x\",\"y\":[13],\"yaxis\":\"y\",\"type\":\"scatter\"},{\"hovertemplate\":\"Name=Tower Resources plc<br>Cluster=%{x}<br>index=%{y}<extra></extra>\",\"legendgroup\":\"Tower Resources plc\",\"marker\":{\"color\":\"#EF553B\",\"symbol\":\"circle\"},\"mode\":\"markers\",\"name\":\"Tower Resources plc\",\"orientation\":\"v\",\"showlegend\":true,\"x\":[2],\"xaxis\":\"x\",\"y\":[15],\"yaxis\":\"y\",\"type\":\"scatter\"},{\"hovertemplate\":\"Name=Lansdowne Oil & Gas plc<br>Cluster=%{x}<br>index=%{y}<extra></extra>\",\"legendgroup\":\"Lansdowne Oil & Gas plc\",\"marker\":{\"color\":\"#00cc96\",\"symbol\":\"circle\"},\"mode\":\"markers\",\"name\":\"Lansdowne Oil & Gas plc\",\"orientation\":\"v\",\"showlegend\":true,\"x\":[2],\"xaxis\":\"x\",\"y\":[17],\"yaxis\":\"y\",\"type\":\"scatter\"},{\"hovertemplate\":\"Name=Alien Metals Ltd<br>Cluster=%{x}<br>index=%{y}<extra></extra>\",\"legendgroup\":\"Alien Metals Ltd\",\"marker\":{\"color\":\"#ab63fa\",\"symbol\":\"circle\"},\"mode\":\"markers\",\"name\":\"Alien Metals Ltd\",\"orientation\":\"v\",\"showlegend\":true,\"x\":[2],\"xaxis\":\"x\",\"y\":[20],\"yaxis\":\"y\",\"type\":\"scatter\"},{\"hovertemplate\":\"Name=Scirocco Energy Plc<br>Cluster=%{x}<br>index=%{y}<extra></extra>\",\"legendgroup\":\"Scirocco Energy Plc\",\"marker\":{\"color\":\"#FFA15A\",\"symbol\":\"circle\"},\"mode\":\"markers\",\"name\":\"Scirocco Energy Plc\",\"orientation\":\"v\",\"showlegend\":true,\"x\":[2],\"xaxis\":\"x\",\"y\":[24],\"yaxis\":\"y\",\"type\":\"scatter\"}],                        {\"template\":{\"data\":{\"histogram2dcontour\":[{\"type\":\"histogram2dcontour\",\"colorbar\":{\"outlinewidth\":0,\"ticks\":\"\"},\"colorscale\":[[0.0,\"#0d0887\"],[0.1111111111111111,\"#46039f\"],[0.2222222222222222,\"#7201a8\"],[0.3333333333333333,\"#9c179e\"],[0.4444444444444444,\"#bd3786\"],[0.5555555555555556,\"#d8576b\"],[0.6666666666666666,\"#ed7953\"],[0.7777777777777778,\"#fb9f3a\"],[0.8888888888888888,\"#fdca26\"],[1.0,\"#f0f921\"]]}],\"choropleth\":[{\"type\":\"choropleth\",\"colorbar\":{\"outlinewidth\":0,\"ticks\":\"\"}}],\"histogram2d\":[{\"type\":\"histogram2d\",\"colorbar\":{\"outlinewidth\":0,\"ticks\":\"\"},\"colorscale\":[[0.0,\"#0d0887\"],[0.1111111111111111,\"#46039f\"],[0.2222222222222222,\"#7201a8\"],[0.3333333333333333,\"#9c179e\"],[0.4444444444444444,\"#bd3786\"],[0.5555555555555556,\"#d8576b\"],[0.6666666666666666,\"#ed7953\"],[0.7777777777777778,\"#fb9f3a\"],[0.8888888888888888,\"#fdca26\"],[1.0,\"#f0f921\"]]}],\"heatmap\":[{\"type\":\"heatmap\",\"colorbar\":{\"outlinewidth\":0,\"ticks\":\"\"},\"colorscale\":[[0.0,\"#0d0887\"],[0.1111111111111111,\"#46039f\"],[0.2222222222222222,\"#7201a8\"],[0.3333333333333333,\"#9c179e\"],[0.4444444444444444,\"#bd3786\"],[0.5555555555555556,\"#d8576b\"],[0.6666666666666666,\"#ed7953\"],[0.7777777777777778,\"#fb9f3a\"],[0.8888888888888888,\"#fdca26\"],[1.0,\"#f0f921\"]]}],\"heatmapgl\":[{\"type\":\"heatmapgl\",\"colorbar\":{\"outlinewidth\":0,\"ticks\":\"\"},\"colorscale\":[[0.0,\"#0d0887\"],[0.1111111111111111,\"#46039f\"],[0.2222222222222222,\"#7201a8\"],[0.3333333333333333,\"#9c179e\"],[0.4444444444444444,\"#bd3786\"],[0.5555555555555556,\"#d8576b\"],[0.6666666666666666,\"#ed7953\"],[0.7777777777777778,\"#fb9f3a\"],[0.8888888888888888,\"#fdca26\"],[1.0,\"#f0f921\"]]}],\"contourcarpet\":[{\"type\":\"contourcarpet\",\"colorbar\":{\"outlinewidth\":0,\"ticks\":\"\"}}],\"contour\":[{\"type\":\"contour\",\"colorbar\":{\"outlinewidth\":0,\"ticks\":\"\"},\"colorscale\":[[0.0,\"#0d0887\"],[0.1111111111111111,\"#46039f\"],[0.2222222222222222,\"#7201a8\"],[0.3333333333333333,\"#9c179e\"],[0.4444444444444444,\"#bd3786\"],[0.5555555555555556,\"#d8576b\"],[0.6666666666666666,\"#ed7953\"],[0.7777777777777778,\"#fb9f3a\"],[0.8888888888888888,\"#fdca26\"],[1.0,\"#f0f921\"]]}],\"surface\":[{\"type\":\"surface\",\"colorbar\":{\"outlinewidth\":0,\"ticks\":\"\"},\"colorscale\":[[0.0,\"#0d0887\"],[0.1111111111111111,\"#46039f\"],[0.2222222222222222,\"#7201a8\"],[0.3333333333333333,\"#9c179e\"],[0.4444444444444444,\"#bd3786\"],[0.5555555555555556,\"#d8576b\"],[0.6666666666666666,\"#ed7953\"],[0.7777777777777778,\"#fb9f3a\"],[0.8888888888888888,\"#fdca26\"],[1.0,\"#f0f921\"]]}],\"mesh3d\":[{\"type\":\"mesh3d\",\"colorbar\":{\"outlinewidth\":0,\"ticks\":\"\"}}],\"scatter\":[{\"fillpattern\":{\"fillmode\":\"overlay\",\"size\":10,\"solidity\":0.2},\"type\":\"scatter\"}],\"parcoords\":[{\"type\":\"parcoords\",\"line\":{\"colorbar\":{\"outlinewidth\":0,\"ticks\":\"\"}}}],\"scatterpolargl\":[{\"type\":\"scatterpolargl\",\"marker\":{\"colorbar\":{\"outlinewidth\":0,\"ticks\":\"\"}}}],\"bar\":[{\"error_x\":{\"color\":\"#2a3f5f\"},\"error_y\":{\"color\":\"#2a3f5f\"},\"marker\":{\"line\":{\"color\":\"#E5ECF6\",\"width\":0.5},\"pattern\":{\"fillmode\":\"overlay\",\"size\":10,\"solidity\":0.2}},\"type\":\"bar\"}],\"scattergeo\":[{\"type\":\"scattergeo\",\"marker\":{\"colorbar\":{\"outlinewidth\":0,\"ticks\":\"\"}}}],\"scatterpolar\":[{\"type\":\"scatterpolar\",\"marker\":{\"colorbar\":{\"outlinewidth\":0,\"ticks\":\"\"}}}],\"histogram\":[{\"marker\":{\"pattern\":{\"fillmode\":\"overlay\",\"size\":10,\"solidity\":0.2}},\"type\":\"histogram\"}],\"scattergl\":[{\"type\":\"scattergl\",\"marker\":{\"colorbar\":{\"outlinewidth\":0,\"ticks\":\"\"}}}],\"scatter3d\":[{\"type\":\"scatter3d\",\"line\":{\"colorbar\":{\"outlinewidth\":0,\"ticks\":\"\"}},\"marker\":{\"colorbar\":{\"outlinewidth\":0,\"ticks\":\"\"}}}],\"scattermapbox\":[{\"type\":\"scattermapbox\",\"marker\":{\"colorbar\":{\"outlinewidth\":0,\"ticks\":\"\"}}}],\"scatterternary\":[{\"type\":\"scatterternary\",\"marker\":{\"colorbar\":{\"outlinewidth\":0,\"ticks\":\"\"}}}],\"scattercarpet\":[{\"type\":\"scattercarpet\",\"marker\":{\"colorbar\":{\"outlinewidth\":0,\"ticks\":\"\"}}}],\"carpet\":[{\"aaxis\":{\"endlinecolor\":\"#2a3f5f\",\"gridcolor\":\"white\",\"linecolor\":\"white\",\"minorgridcolor\":\"white\",\"startlinecolor\":\"#2a3f5f\"},\"baxis\":{\"endlinecolor\":\"#2a3f5f\",\"gridcolor\":\"white\",\"linecolor\":\"white\",\"minorgridcolor\":\"white\",\"startlinecolor\":\"#2a3f5f\"},\"type\":\"carpet\"}],\"table\":[{\"cells\":{\"fill\":{\"color\":\"#EBF0F8\"},\"line\":{\"color\":\"white\"}},\"header\":{\"fill\":{\"color\":\"#C8D4E3\"},\"line\":{\"color\":\"white\"}},\"type\":\"table\"}],\"barpolar\":[{\"marker\":{\"line\":{\"color\":\"#E5ECF6\",\"width\":0.5},\"pattern\":{\"fillmode\":\"overlay\",\"size\":10,\"solidity\":0.2}},\"type\":\"barpolar\"}],\"pie\":[{\"automargin\":true,\"type\":\"pie\"}]},\"layout\":{\"autotypenumbers\":\"strict\",\"colorway\":[\"#636efa\",\"#EF553B\",\"#00cc96\",\"#ab63fa\",\"#FFA15A\",\"#19d3f3\",\"#FF6692\",\"#B6E880\",\"#FF97FF\",\"#FECB52\"],\"font\":{\"color\":\"#2a3f5f\"},\"hovermode\":\"closest\",\"hoverlabel\":{\"align\":\"left\"},\"paper_bgcolor\":\"white\",\"plot_bgcolor\":\"#E5ECF6\",\"polar\":{\"bgcolor\":\"#E5ECF6\",\"angularaxis\":{\"gridcolor\":\"white\",\"linecolor\":\"white\",\"ticks\":\"\"},\"radialaxis\":{\"gridcolor\":\"white\",\"linecolor\":\"white\",\"ticks\":\"\"}},\"ternary\":{\"bgcolor\":\"#E5ECF6\",\"aaxis\":{\"gridcolor\":\"white\",\"linecolor\":\"white\",\"ticks\":\"\"},\"baxis\":{\"gridcolor\":\"white\",\"linecolor\":\"white\",\"ticks\":\"\"},\"caxis\":{\"gridcolor\":\"white\",\"linecolor\":\"white\",\"ticks\":\"\"}},\"coloraxis\":{\"colorbar\":{\"outlinewidth\":0,\"ticks\":\"\"}},\"colorscale\":{\"sequential\":[[0.0,\"#0d0887\"],[0.1111111111111111,\"#46039f\"],[0.2222222222222222,\"#7201a8\"],[0.3333333333333333,\"#9c179e\"],[0.4444444444444444,\"#bd3786\"],[0.5555555555555556,\"#d8576b\"],[0.6666666666666666,\"#ed7953\"],[0.7777777777777778,\"#fb9f3a\"],[0.8888888888888888,\"#fdca26\"],[1.0,\"#f0f921\"]],\"sequentialminus\":[[0.0,\"#0d0887\"],[0.1111111111111111,\"#46039f\"],[0.2222222222222222,\"#7201a8\"],[0.3333333333333333,\"#9c179e\"],[0.4444444444444444,\"#bd3786\"],[0.5555555555555556,\"#d8576b\"],[0.6666666666666666,\"#ed7953\"],[0.7777777777777778,\"#fb9f3a\"],[0.8888888888888888,\"#fdca26\"],[1.0,\"#f0f921\"]],\"diverging\":[[0,\"#8e0152\"],[0.1,\"#c51b7d\"],[0.2,\"#de77ae\"],[0.3,\"#f1b6da\"],[0.4,\"#fde0ef\"],[0.5,\"#f7f7f7\"],[0.6,\"#e6f5d0\"],[0.7,\"#b8e186\"],[0.8,\"#7fbc41\"],[0.9,\"#4d9221\"],[1,\"#276419\"]]},\"xaxis\":{\"gridcolor\":\"white\",\"linecolor\":\"white\",\"ticks\":\"\",\"title\":{\"standoff\":15},\"zerolinecolor\":\"white\",\"automargin\":true,\"zerolinewidth\":2},\"yaxis\":{\"gridcolor\":\"white\",\"linecolor\":\"white\",\"ticks\":\"\",\"title\":{\"standoff\":15},\"zerolinecolor\":\"white\",\"automargin\":true,\"zerolinewidth\":2},\"scene\":{\"xaxis\":{\"backgroundcolor\":\"#E5ECF6\",\"gridcolor\":\"white\",\"linecolor\":\"white\",\"showbackground\":true,\"ticks\":\"\",\"zerolinecolor\":\"white\",\"gridwidth\":2},\"yaxis\":{\"backgroundcolor\":\"#E5ECF6\",\"gridcolor\":\"white\",\"linecolor\":\"white\",\"showbackground\":true,\"ticks\":\"\",\"zerolinecolor\":\"white\",\"gridwidth\":2},\"zaxis\":{\"backgroundcolor\":\"#E5ECF6\",\"gridcolor\":\"white\",\"linecolor\":\"white\",\"showbackground\":true,\"ticks\":\"\",\"zerolinecolor\":\"white\",\"gridwidth\":2}},\"shapedefaults\":{\"line\":{\"color\":\"#2a3f5f\"}},\"annotationdefaults\":{\"arrowcolor\":\"#2a3f5f\",\"arrowhead\":0,\"arrowwidth\":1},\"geo\":{\"bgcolor\":\"white\",\"landcolor\":\"#E5ECF6\",\"subunitcolor\":\"white\",\"showland\":true,\"showlakes\":true,\"lakecolor\":\"white\"},\"title\":{\"x\":0.05},\"mapbox\":{\"style\":\"light\"}}},\"xaxis\":{\"anchor\":\"y\",\"domain\":[0.0,1.0],\"title\":{\"text\":\"Cluster\"}},\"yaxis\":{\"anchor\":\"x\",\"domain\":[0.0,1.0],\"title\":{\"text\":\"index\"}},\"legend\":{\"title\":{\"text\":\"Name\"},\"tracegroupgap\":0},\"title\":{\"text\":\"Clusters\"}},                        {\"responsive\": true}                    ).then(function(){\n",
       "                            \n",
       "var gd = document.getElementById('c3a1958e-2f59-49c7-bcec-496ffd31ee43');\n",
       "var x = new MutationObserver(function (mutations, observer) {{\n",
       "        var display = window.getComputedStyle(gd).display;\n",
       "        if (!display || display === 'none') {{\n",
       "            console.log([gd, 'removed!']);\n",
       "            Plotly.purge(gd);\n",
       "            observer.disconnect();\n",
       "        }}\n",
       "}});\n",
       "\n",
       "// Listen for the removal of the full notebook cells\n",
       "var notebookContainer = gd.closest('#notebook-container');\n",
       "if (notebookContainer) {{\n",
       "    x.observe(notebookContainer, {childList: true});\n",
       "}}\n",
       "\n",
       "// Listen for the clearing of the current output cell\n",
       "var outputEl = gd.closest('.output');\n",
       "if (outputEl) {{\n",
       "    x.observe(outputEl, {childList: true});\n",
       "}}\n",
       "\n",
       "                        })                };                });            </script>        </div>"
      ]
     },
     "metadata": {},
     "output_type": "display_data"
    }
   ],
   "source": [
    "\n",
    "display(px.scatter(stocks, \"Cluster\" , \"index\" ,\"Name\",title=\"Clusters\"))"
   ]
  },
  {
   "cell_type": "code",
   "execution_count": 56,
   "id": "851f92d1",
   "metadata": {},
   "outputs": [
    {
     "data": {
      "image/png": "[encoded data removed]",
      "text/plain": [
       "<Figure size 2500x2500 with 7 Axes>"
      ]
     },
     "metadata": {},
     "output_type": "display_data"
    }
   ],
   "source": [
    "stocks_anal=stocks.drop([\"index\",\"Symbol\",\"Name\",\"Cluster\"],axis=1)\n",
    "\n",
    "plt.figure(figsize=(25,25))\n",
    "for i,col in enumerate(stocks_anal):\n",
    "    plt.subplot(4,2,i+1)\n",
    "    p=sns.barplot(data=stocks,x=\"Cluster\",y=col)\n",
    "    plt.title(f\"Average {col} in clusters\" ,weight=\"bold\")\n",
    "    p.bar_label(p.containers[0])\n",
    "    \n",
    "plt.show()"
   ]
  },
  {
   "cell_type": "markdown",
   "id": "f30abafd",
   "metadata": {},
   "source": [
    "#### Takeaways - this will change due to the nature of the data\n",
    "* Cluster 1 looks to be smaller companies due to have the lowest market cap and price\n",
    "* Cluster 2 are relatively small companies as well but have lower volume and change compared to cluster 1 \n",
    "* Cluster 3 tends to be more medium to large size companies that change as much as cluster 1 but their volume ratio is incredibly low indicating the current change is likely not  to do with 1 time events \n",
    "* Cluster 4 are the medium size companies bigger than 1 and 2 but smaller than 3 in terms of market cap, don't change as much as the others but volume ratio is the highest indicating the current change is likely to do with 1 time events \n"
   ]
  },
  {
   "cell_type": "markdown",
   "id": "d61eba83",
   "metadata": {},
   "source": [
    "### Conclusion and Recommendations\n",
    "\n",
    "###### Personally for me I try to emulate Warren Buffets investing style of long term durable stocks, that show a consistent positive trend over time, for this I would need to find companies that are :\n",
    "* Not largely effected by 1 time events (Volume ratio should be somewhat low)\n",
    "* The % change is not exceptionally high, unless it's a company that I know has good economics, in this case if the %change is negative so the price falls potential buying oppurtunity in a bear market\n",
    "* Also a relatively high market cap, is ideal as it means the company has most likely has a competitive advantage hence why it was able to grow itself until it possessed a high market cap\n",
    "\n",
    "#### From what I've said above from the current data, the best stocks that would fit what I'm looking for is in cluster 3 "
   ]
  },
  {
   "cell_type": "markdown",
   "id": "b202a20a",
   "metadata": {},
   "source": [
    "### Potential improvements \n",
    "* More data would make the model more accurate naturally \n",
    "* A way to access the balance sheets, cash flows and income statements of the company and scrape it and use it in analytics (I wasn't able to find a summarised version for multiple companies online, I would've had to manually do it, which isn't efficient)"
   ]
  }
 ],
 "metadata": {
  "kernelspec": {
   "display_name": "Python 3 (ipykernel)",
   "language": "python",
   "name": "python3"
  },
  "language_info": {
   "codemirror_mode": {
    "name": "ipython",
    "version": 3
   },
   "file_extension": ".py",
   "mimetype": "text/x-python",
   "name": "python",
   "nbconvert_exporter": "python",
   "pygments_lexer": "ipython3",
   "version": "3.9.13"
  }
 },
 "nbformat": 4,
 "nbformat_minor": 5
}
